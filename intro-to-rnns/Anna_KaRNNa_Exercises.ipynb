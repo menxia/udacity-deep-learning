{
 "cells": [
  {
   "cell_type": "markdown",
   "metadata": {},
   "source": [
    "# Anna KaRNNa\n",
    "\n",
    "In this notebook, we'll build a character-wise RNN trained on Anna Karenina, one of my all-time favorite books. It'll be able to generate new text based on the text from the book.\n",
    "\n",
    "This network is based off of Andrej Karpathy's [post on RNNs](http://karpathy.github.io/2015/05/21/rnn-effectiveness/) and [implementation in Torch](https://github.com/karpathy/char-rnn). Also, some information [here at r2rt](http://r2rt.com/recurrent-neural-networks-in-tensorflow-ii.html) and from [Sherjil Ozair](https://github.com/sherjilozair/char-rnn-tensorflow) on GitHub. Below is the general architecture of the character-wise RNN.\n",
    "\n",
    "<img src=\"assets/charseq.jpeg\" width=\"500\">"
   ]
  },
  {
   "cell_type": "code",
   "execution_count": 1,
   "metadata": {
    "collapsed": true
   },
   "outputs": [],
   "source": [
    "import time\n",
    "from collections import namedtuple\n",
    "\n",
    "import numpy as np\n",
    "import tensorflow as tf"
   ]
  },
  {
   "cell_type": "markdown",
   "metadata": {},
   "source": [
    "First we'll load the text file and convert it into integers for our network to use. Here I'm creating a couple dictionaries to convert the characters to and from integers. Encoding the characters as integers makes it easier to use as input in the network."
   ]
  },
  {
   "cell_type": "code",
   "execution_count": 2,
   "metadata": {
    "collapsed": true
   },
   "outputs": [],
   "source": [
    "with open('anna.txt', 'r') as f:\n",
    "    text=f.read()\n",
    "vocab = set(text)\n",
    "vocab_to_int = {c: i for i, c in enumerate(vocab)}\n",
    "int_to_vocab = dict(enumerate(vocab))\n",
    "encoded = np.array([vocab_to_int[c] for c in text], dtype=np.int32)"
   ]
  },
  {
   "cell_type": "markdown",
   "metadata": {},
   "source": [
    "Let's check out the first 100 characters, make sure everything is peachy. According to the [American Book Review](http://americanbookreview.org/100bestlines.asp), this is the 6th best first line of a book ever."
   ]
  },
  {
   "cell_type": "code",
   "execution_count": 3,
   "metadata": {
    "collapsed": false
   },
   "outputs": [
    {
     "data": {
      "text/plain": [
       "'Chapter 1\\n\\n\\nHappy families are all alike; every unhappy family is unhappy in its own\\nway.\\n\\nEverythin'"
      ]
     },
     "execution_count": 3,
     "metadata": {},
     "output_type": "execute_result"
    }
   ],
   "source": [
    "text[:100]"
   ]
  },
  {
   "cell_type": "markdown",
   "metadata": {},
   "source": [
    "And we can see the characters encoded as integers."
   ]
  },
  {
   "cell_type": "code",
   "execution_count": 4,
   "metadata": {
    "collapsed": false
   },
   "outputs": [
    {
     "data": {
      "text/plain": [
       "array([24,  6,  7, 33, 34,  0, 59, 23, 66, 75, 75, 75, 15,  7, 33, 33, 26,\n",
       "       23, 57,  7, 46, 43, 48, 43,  0, 25, 23,  7, 59,  0, 23,  7, 48, 48,\n",
       "       23,  7, 48, 43, 53,  0, 40, 23,  0, 81,  0, 59, 26, 23, 80, 12,  6,\n",
       "        7, 33, 33, 26, 23, 57,  7, 46, 43, 48, 26, 23, 43, 25, 23, 80, 12,\n",
       "        6,  7, 33, 33, 26, 23, 43, 12, 23, 43, 34, 25, 23,  1, 71, 12, 75,\n",
       "       71,  7, 26, 79, 75, 75, 19, 81,  0, 59, 26, 34,  6, 43, 12], dtype=int32)"
      ]
     },
     "execution_count": 4,
     "metadata": {},
     "output_type": "execute_result"
    }
   ],
   "source": [
    "encoded[:100]"
   ]
  },
  {
   "cell_type": "markdown",
   "metadata": {},
   "source": [
    "Since the network is working with individual characters, it's similar to a classification problem in which we are trying to predict the next character from the previous text.  Here's how many 'classes' our network has to pick from."
   ]
  },
  {
   "cell_type": "code",
   "execution_count": 5,
   "metadata": {
    "collapsed": false
   },
   "outputs": [
    {
     "data": {
      "text/plain": [
       "83"
      ]
     },
     "execution_count": 5,
     "metadata": {},
     "output_type": "execute_result"
    }
   ],
   "source": [
    "len(vocab)"
   ]
  },
  {
   "cell_type": "markdown",
   "metadata": {},
   "source": [
    "## Making training mini-batches\n",
    "\n",
    "Here is where we'll make our mini-batches for training. Remember that we want our batches to be multiple sequences of some desired number of sequence steps. Considering a simple example, our batches would look like this:\n",
    "\n",
    "<img src=\"assets/sequence_batching@1x.png\" width=500px>\n",
    "\n",
    "\n",
    "<br>\n",
    "We have our text encoded as integers as one long array in `encoded`. Let's create a function that will give us an iterator for our batches. I like using [generator functions](https://jeffknupp.com/blog/2013/04/07/improve-your-python-yield-and-generators-explained/) to do this. Then we can pass `encoded` into this function and get our batch generator.\n",
    "\n",
    "The first thing we need to do is discard some of the text so we only have completely full batches. Each batch contains $N \\times M$ characters, where $N$ is the batch size (the number of sequences) and $M$ is the number of steps. Then, to get the number of batches we can make from some array `arr`, you divide the length of `arr` by the batch size. Once you know the number of batches and the batch size, you can get the total number of characters to keep.\n",
    "\n",
    "After that, we need to split `arr` into $N$ sequences. You can do this using `arr.reshape(size)` where `size` is a tuple containing the dimensions sizes of the reshaped array. We know we want $N$ sequences (`n_seqs` below), let's make that the size of the first dimension. For the second dimension, you can use `-1` as a placeholder in the size, it'll fill up the array with the appropriate data for you. After this, you should have an array that is $N \\times (M * K)$ where $K$ is the number of batches.\n",
    "\n",
    "Now that we have this array, we can iterate through it to get our batches. The idea is each batch is a $N \\times M$ window on the array. For each subsequent batch, the window moves over by `n_steps`. We also want to create both the input and target arrays. Remember that the targets are the inputs shifted over one character. You'll usually see the first input character used as the last target character, so something like this:\n",
    "```python\n",
    "y[:, :-1], y[:, -1] = x[:, 1:], x[:, 0]\n",
    "```\n",
    "where `x` is the input batch and `y` is the target batch.\n",
    "\n",
    "The way I like to do this window is use `range` to take steps of size `n_steps` from $0$ to `arr.shape[1]`, the total number of steps in each sequence. That way, the integers you get from `range` always point to the start of a batch, and each window is `n_steps` wide.\n",
    "\n",
    "> **Exercise:** Write the code for creating batches in the function below. The exercises in this notebook _will not be easy_. I've provided a notebook with solutions alongside this notebook. If you get stuck, checkout the solutions. The most important thing is that you don't copy and paste the code into here, **type out the solution code yourself.**"
   ]
  },
  {
   "cell_type": "code",
   "execution_count": 9,
   "metadata": {
    "collapsed": true
   },
   "outputs": [],
   "source": [
    "def get_batches(arr, n_seqs, n_steps):\n",
    "    '''Create a generator that returns batches of size\n",
    "       n_seqs x n_steps from arr.\n",
    "       \n",
    "       Arguments\n",
    "       ---------\n",
    "       arr: Array you want to make batches from\n",
    "       n_seqs: Batch size, the number of sequences per batch\n",
    "       n_steps: Number of sequence steps per batch\n",
    "    '''\n",
    "    # Get the batch size and number of batches we can make\n",
    "    batch_size = n_seqs\n",
    "    n_batches = int(len(arr)/(n_seqs*n_steps))\n",
    "    \n",
    "    # Keep only enough characters to make full batches\n",
    "    arr = arr[:(n_batches*n_seqs*n_steps)]\n",
    "    \n",
    "    # Reshape into n_seqs rows\n",
    "    arr = arr.reshape((n_seqs, -1))\n",
    "    \n",
    "    for n in range(0, arr.shape[1], n_steps):\n",
    "        # The features\n",
    "        x = arr[:, n:n+n_steps]\n",
    "        # The targets, shifted by one\n",
    "        y = np.zeros_like(x)\n",
    "        y[:, :-1], y[:, -1] = x[:, 1:], x[:, 0]\n",
    "        yield x, y"
   ]
  },
  {
   "cell_type": "markdown",
   "metadata": {},
   "source": [
    "Now I'll make my data sets and we can check out what's going on here. Here I'm going to use a batch size of 10 and 50 sequence steps."
   ]
  },
  {
   "cell_type": "code",
   "execution_count": 10,
   "metadata": {
    "collapsed": true
   },
   "outputs": [],
   "source": [
    "batches = get_batches(encoded, 10, 50)\n",
    "x, y = next(batches)"
   ]
  },
  {
   "cell_type": "code",
   "execution_count": 11,
   "metadata": {
    "collapsed": false
   },
   "outputs": [
    {
     "name": "stdout",
     "output_type": "stream",
     "text": [
      "x\n",
      " [[24  6  7 33 34  0 59 23 66 75]\n",
      " [23  7 46 23 12  1 34 23  4  1]\n",
      " [81 43 12 79 75 75 13 11  0 25]\n",
      " [12 23 32 80 59 43 12  4 23  6]\n",
      " [23 43 34 23 43 25 49 23 25 43]\n",
      " [23 63 34 23 71  7 25 75  1 12]\n",
      " [ 6  0 12 23 60  1 46  0 23 57]\n",
      " [40 23 14 80 34 23 12  1 71 23]\n",
      " [34 23 43 25 12 20 34 79 23 45]\n",
      " [23 25  7 43 32 23 34  1 23  6]]\n",
      "\n",
      "y\n",
      " [[ 6  7 33 34  0 59 23 66 75 75]\n",
      " [ 7 46 23 12  1 34 23  4  1 43]\n",
      " [43 12 79 75 75 13 11  0 25 49]\n",
      " [23 32 80 59 43 12  4 23  6 43]\n",
      " [43 34 23 43 25 49 23 25 43 59]\n",
      " [63 34 23 71  7 25 75  1 12 48]\n",
      " [ 0 12 23 60  1 46  0 23 57  1]\n",
      " [23 14 80 34 23 12  1 71 23 25]\n",
      " [23 43 25 12 20 34 79 23 45  6]\n",
      " [25  7 43 32 23 34  1 23  6  0]]\n"
     ]
    }
   ],
   "source": [
    "print('x\\n', x[:10, :10])\n",
    "print('\\ny\\n', y[:10, :10])"
   ]
  },
  {
   "cell_type": "markdown",
   "metadata": {},
   "source": [
    "If you implemented `get_batches` correctly, the above output should look something like \n",
    "```\n",
    "x\n",
    " [[55 63 69 22  6 76 45  5 16 35]\n",
    " [ 5 69  1  5 12 52  6  5 56 52]\n",
    " [48 29 12 61 35 35  8 64 76 78]\n",
    " [12  5 24 39 45 29 12 56  5 63]\n",
    " [ 5 29  6  5 29 78 28  5 78 29]\n",
    " [ 5 13  6  5 36 69 78 35 52 12]\n",
    " [63 76 12  5 18 52  1 76  5 58]\n",
    " [34  5 73 39  6  5 12 52 36  5]\n",
    " [ 6  5 29 78 12 79  6 61  5 59]\n",
    " [ 5 78 69 29 24  5  6 52  5 63]]\n",
    "\n",
    "y\n",
    " [[63 69 22  6 76 45  5 16 35 35]\n",
    " [69  1  5 12 52  6  5 56 52 29]\n",
    " [29 12 61 35 35  8 64 76 78 28]\n",
    " [ 5 24 39 45 29 12 56  5 63 29]\n",
    " [29  6  5 29 78 28  5 78 29 45]\n",
    " [13  6  5 36 69 78 35 52 12 43]\n",
    " [76 12  5 18 52  1 76  5 58 52]\n",
    " [ 5 73 39  6  5 12 52 36  5 78]\n",
    " [ 5 29 78 12 79  6 61  5 59 63]\n",
    " [78 69 29 24  5  6 52  5 63 76]]\n",
    " ```\n",
    " although the exact numbers will be different. Check to make sure the data is shifted over one step for `y`."
   ]
  },
  {
   "cell_type": "markdown",
   "metadata": {},
   "source": [
    "## Building the model\n",
    "\n",
    "Below is where you'll build the network. We'll break it up into parts so it's easier to reason about each bit. Then we can connect them up into the whole network.\n",
    "\n",
    "<img src=\"assets/charRNN.png\" width=500px>\n",
    "\n",
    "\n",
    "### Inputs\n",
    "\n",
    "First off we'll create our input placeholders. As usual we need placeholders for the training data and the targets. We'll also create a placeholder for dropout layers called `keep_prob`. This will be a scalar, that is a 0-D tensor. To make a scalar, you create a placeholder without giving it a size.\n",
    "\n",
    "> **Exercise:** Create the input placeholders in the function below."
   ]
  },
  {
   "cell_type": "code",
   "execution_count": 13,
   "metadata": {
    "collapsed": false
   },
   "outputs": [],
   "source": [
    "def build_inputs(batch_size, num_steps):\n",
    "    ''' Define placeholders for inputs, targets, and dropout \n",
    "    \n",
    "        Arguments\n",
    "        ---------\n",
    "        batch_size: Batch size, number of sequences per batch\n",
    "        num_steps: Number of sequence steps in a batch\n",
    "        \n",
    "    '''\n",
    "    # Declare placeholders we'll feed into the graph\n",
    "    inputs = tf.placeholder(tf.int32, [batch_size, num_steps], name = 'inputs')\n",
    "    targets = tf.placeholder(tf.int32, [batch_size, num_steps], name = 'targets')\n",
    "    \n",
    "    # Keep probability placeholder for drop out layers\n",
    "    keep_prob = tf.placeholder(tf.float32, name = 'keep_prob')\n",
    "    \n",
    "    return inputs, targets, keep_prob"
   ]
  },
  {
   "cell_type": "markdown",
   "metadata": {},
   "source": [
    "### LSTM Cell\n",
    "\n",
    "Here we will create the LSTM cell we'll use in the hidden layer. We'll use this cell as a building block for the RNN. So we aren't actually defining the RNN here, just the type of cell we'll use in the hidden layer.\n",
    "\n",
    "We first create a basic LSTM cell with\n",
    "\n",
    "```python\n",
    "lstm = tf.contrib.rnn.BasicLSTMCell(num_units)\n",
    "```\n",
    "\n",
    "where `num_units` is the number of units in the hidden layers in the cell. Then we can add dropout by wrapping it with \n",
    "\n",
    "```python\n",
    "tf.contrib.rnn.DropoutWrapper(lstm, output_keep_prob=keep_prob)\n",
    "```\n",
    "You pass in a cell and it will automatically add dropout to the inputs or outputs. Finally, we can stack up the LSTM cells into layers with [`tf.contrib.rnn.MultiRNNCell`](https://www.tensorflow.org/versions/r1.0/api_docs/python/tf/contrib/rnn/MultiRNNCell). With this, you pass in a list of cells and it will send the output of one cell into the next cell. For example,\n",
    "\n",
    "```python\n",
    "tf.contrib.rnn.MultiRNNCell([cell]*num_layers)\n",
    "```\n",
    "\n",
    "This might look a little weird if you know Python well because this will create a list of the same `cell` object. However, TensorFlow will create different weight matrices for all `cell` objects. Even though this is actually multiple LSTM cells stacked on each other, you can treat the multiple layers as one cell.\n",
    "\n",
    "We also need to create an initial cell state of all zeros. This can be done like so\n",
    "\n",
    "```python\n",
    "initial_state = cell.zero_state(batch_size, tf.float32)\n",
    "```\n",
    "\n",
    "> **Exercise:** Below, implement the `build_lstm` function to create these LSTM cells and the initial state."
   ]
  },
  {
   "cell_type": "code",
   "execution_count": 14,
   "metadata": {
    "collapsed": true
   },
   "outputs": [],
   "source": [
    "def build_lstm(lstm_size, num_layers, batch_size, keep_prob):\n",
    "    ''' Build LSTM cell.\n",
    "    \n",
    "        Arguments\n",
    "        ---------\n",
    "        keep_prob: Scalar tensor (tf.placeholder) for the dropout keep probability\n",
    "        lstm_size: Size of the hidden layers in the LSTM cells\n",
    "        num_layers: Number of LSTM layers\n",
    "        batch_size: Batch size\n",
    "\n",
    "    '''\n",
    "    ### Build the LSTM Cell\n",
    "    # Use a basic LSTM cell\n",
    "    lstm = tf.contrib.rnn.BasicLSTMCell(lstm_size)\n",
    "    \n",
    "    # Add dropout to the cell outputs\n",
    "    drop = tf.contrib.rnn.DropoutWrapper(lstm, output_keep_prob=keep_prob)\n",
    "    \n",
    "    # Stack up multiple LSTM layers, for deep learning\n",
    "    cell = tf.contrib.rnn.MultiRNNCell([drop]*num_layers)\n",
    "    initial_state = cell.zero_state(batch_size, tf.float32)\n",
    "    \n",
    "    return cell, initial_state"
   ]
  },
  {
   "cell_type": "markdown",
   "metadata": {},
   "source": [
    "### RNN Output\n",
    "\n",
    "Here we'll create the output layer. We need to connect the output of the RNN cells to a full connected layer with a softmax output. The softmax output gives us a probability distribution we can use to predict the next character, so we want this layer to have size $C$, the number of classes/characters we have in our text.\n",
    "\n",
    "If our input has batch size $N$, number of steps $M$, and the hidden layer has $L$ hidden units, then the output is a 3D tensor with size $N \\times M \\times L$. The output of each LSTM cell has size $L$, we have $M$ of them, one for each sequence step, and we have $N$ sequences. So the total size is $N \\times M \\times L$. \n",
    "\n",
    "We are using the same fully connected layer, the same weights, for each of the outputs. Then, to make things easier, we should reshape the outputs into a 2D tensor with shape $(M * N) \\times L$. That is, one row for each sequence and step, where the values of each row are the output from the LSTM cells. We get the LSTM output as a list, `lstm_output`. First we need to concatenate this whole list into one array with [`tf.concat`](https://www.tensorflow.org/api_docs/python/tf/concat). Then, reshape it (with `tf.reshape`) to size $(M * N) \\times L$.\n",
    "\n",
    "One we have the outputs reshaped, we can do the matrix multiplication with the weights. We need to wrap the weight and bias variables in a variable scope with `tf.variable_scope(scope_name)` because there are weights being created in the LSTM cells. TensorFlow will throw an error if the weights created here have the same names as the weights created in the LSTM cells, which they will be default. To avoid this, we wrap the variables in a variable scope so we can give them unique names.\n",
    "\n",
    "> **Exercise:** Implement the output layer in the function below."
   ]
  },
  {
   "cell_type": "code",
   "execution_count": 45,
   "metadata": {
    "collapsed": true
   },
   "outputs": [],
   "source": [
    "def build_output(lstm_output, in_size, out_size):\n",
    "    ''' Build a softmax layer, return the softmax output and logits.\n",
    "    \n",
    "        Arguments\n",
    "        ---------\n",
    "        \n",
    "        lstm_output: List of output tensors from the LSTM layer\n",
    "        in_size: Size of the input tensor, for example, size of the LSTM cells\n",
    "        out_size: Size of this softmax layer\n",
    "    \n",
    "    '''\n",
    "\n",
    "    # Reshape output so it's a bunch of rows, one row for each step for each sequence.\n",
    "    # Concatenate lstm_output over axis 1 (the columns)\n",
    "    seq_output = lstm_output #tf.concat(lstm_output, axis = 1)\n",
    "    # Reshape seq_output to a 2D tensor with lstm_size columns\n",
    "    x = tf.reshape(seq_output, (-1, in_size))\n",
    "    \n",
    "    # Connect the RNN outputs to a softmax layer\n",
    "    with tf.variable_scope('softmax'):\n",
    "        # Create the weight and bias variables here\n",
    "        softmax_w = tf.Variable(tf.truncated_normal((in_size, out_size), stddev=0.1))\n",
    "        softmax_b = tf.Variable(tf.zeros(out_size,))\n",
    "    \n",
    "    # Since output is a bunch of rows of RNN cell outputs, logits will be a bunch\n",
    "    # of rows of logit outputs, one for each step and sequence\n",
    "    logits = tf.matmul(x, softmax_w)+softmax_b\n",
    "    \n",
    "    # Use softmax to get the probabilities for predicted characters\n",
    "    out = tf.nn.softmax(logits, name = 'predictions')\n",
    "    \n",
    "    return out, logits"
   ]
  },
  {
   "cell_type": "markdown",
   "metadata": {},
   "source": [
    "### Training loss\n",
    "\n",
    "Next up is the training loss. We get the logits and targets and calculate the softmax cross-entropy loss. First we need to one-hot encode the targets, we're getting them as encoded characters. Then, reshape the one-hot targets so it's a 2D tensor with size $(M*N) \\times C$ where $C$ is the number of classes/characters we have. Remember that we reshaped the LSTM outputs and ran them through a fully connected layer with $C$ units. So our logits will also have size $(M*N) \\times C$.\n",
    "\n",
    "Then we run the logits and targets through `tf.nn.softmax_cross_entropy_with_logits` and find the mean to get the loss.\n",
    "\n",
    ">**Exercise:** Implement the loss calculation in the function below."
   ]
  },
  {
   "cell_type": "code",
   "execution_count": 46,
   "metadata": {
    "collapsed": true
   },
   "outputs": [],
   "source": [
    "def build_loss(logits, targets, lstm_size, num_classes):\n",
    "    ''' Calculate the loss from the logits and the targets.\n",
    "    \n",
    "        Arguments\n",
    "        ---------\n",
    "        logits: Logits from final fully connected layer\n",
    "        targets: Targets for supervised learning\n",
    "        lstm_size: Number of LSTM hidden units\n",
    "        num_classes: Number of classes in targets\n",
    "        \n",
    "    '''\n",
    "    \n",
    "    # One-hot encode targets and reshape to match logits, one row per sequence per step\n",
    "    y_one_hot = tf.one_hot(targets, num_classes)\n",
    "    y_reshaped =  tf.reshape(y_one_hot, shape = (-1, num_classes))\n",
    "    \n",
    "    # Softmax cross entropy loss\n",
    "    loss = tf.reduce_mean(tf.nn.softmax_cross_entropy_with_logits(labels=y_reshaped, logits=logits))\n",
    "    \n",
    "    return loss"
   ]
  },
  {
   "cell_type": "markdown",
   "metadata": {},
   "source": [
    "### Optimizer\n",
    "\n",
    "Here we build the optimizer. Normal RNNs have have issues gradients exploding and disappearing. LSTMs fix the disappearance problem, but the gradients can still grow without bound. To fix this, we can clip the gradients above some threshold. That is, if a gradient is larger than that threshold, we set it to the threshold. This will ensure the gradients never grow overly large. Then we use an AdamOptimizer for the learning step."
   ]
  },
  {
   "cell_type": "code",
   "execution_count": 47,
   "metadata": {
    "collapsed": true
   },
   "outputs": [],
   "source": [
    "def build_optimizer(loss, learning_rate, grad_clip):\n",
    "    ''' Build optmizer for training, using gradient clipping.\n",
    "    \n",
    "        Arguments:\n",
    "        loss: Network loss\n",
    "        learning_rate: Learning rate for optimizer\n",
    "    \n",
    "    '''\n",
    "    \n",
    "    # Optimizer for training, using gradient clipping to control exploding gradients\n",
    "    tvars = tf.trainable_variables()\n",
    "    grads, _ = tf.clip_by_global_norm(tf.gradients(loss, tvars), grad_clip)\n",
    "    train_op = tf.train.AdamOptimizer(learning_rate)\n",
    "    optimizer = train_op.apply_gradients(zip(grads, tvars))\n",
    "    \n",
    "    return optimizer"
   ]
  },
  {
   "cell_type": "markdown",
   "metadata": {},
   "source": [
    "### Build the network\n",
    "\n",
    "Now we can put all the pieces together and build a class for the network. To actually run data through the LSTM cells, we will use [`tf.nn.dynamic_rnn`](https://www.tensorflow.org/versions/r1.0/api_docs/python/tf/nn/dynamic_rnn). **This function will pass the hidden and cell states across LSTM cells appropriately for us. It returns the outputs for each LSTM cell at each step for each sequence in the mini-batch. It also gives us the final LSTM state. We want to save this state as `final_state` so we can pass it to the first LSTM cell in the the next mini-batch run.** For `tf.nn.dynamic_rnn`, we pass in the cell and initial state we get from `build_lstm`, as well as our input sequences. Also, we need to one-hot encode the inputs before going into the RNN. \n",
    "\n",
    "> **Exercise:** Use the functions you've implemented previously and `tf.nn.dynamic_rnn` to build the network."
   ]
  },
  {
   "cell_type": "code",
   "execution_count": 48,
   "metadata": {
    "collapsed": true
   },
   "outputs": [],
   "source": [
    "class CharRNN:\n",
    "    \n",
    "    def __init__(self, num_classes, batch_size=64, num_steps=50, \n",
    "                       lstm_size=128, num_layers=2, learning_rate=0.001, \n",
    "                       grad_clip=5, sampling=False):\n",
    "    \n",
    "        # When we're using this network for sampling later, we'll be passing in\n",
    "        # one character at a time, so providing an option for that\n",
    "        if sampling == True:\n",
    "            batch_size, num_steps = 1, 1\n",
    "        else:\n",
    "            batch_size, num_steps = batch_size, num_steps\n",
    "\n",
    "        tf.reset_default_graph()\n",
    "        \n",
    "        # Build the input placeholder tensors\n",
    "        self.inputs, self.targets, self.keep_prob = build_inputs(batch_size, num_steps)\n",
    "\n",
    "        # Build the LSTM cell\n",
    "        cell, self.initial_state = build_lstm(lstm_size, num_layers, batch_size, keep_prob)\n",
    "\n",
    "        ### Run the data through the RNN layers\n",
    "        # First, one-hot encode the input tokens\n",
    "        x_one_hot = tf.one_hot(self.inputs, num_classes)\n",
    "        \n",
    "        # Run each sequence step through the RNN with tf.nn.dynamic_rnn \n",
    "        outputs, state = tf.nn.dynamic_rnn(cell, x_one_hot, initial_state=self.initial_state)\n",
    "        self.final_state = state\n",
    "        \n",
    "        # Get softmax predictions and logits\n",
    "        self.prediction, self.logits = build_output(outputs, lstm_size, num_classes)\n",
    "        \n",
    "        # Loss and optimizer (with gradient clipping)\n",
    "        self.loss =  build_loss(self.logits, self.targets, lstm_size, num_classes)\n",
    "        self.optimizer = build_optimizer(self.loss, learning_rate, grad_clip)"
   ]
  },
  {
   "cell_type": "markdown",
   "metadata": {},
   "source": [
    "## Hyperparameters\n",
    "\n",
    "Here are the hyperparameters for the network.\n",
    "\n",
    "* `batch_size` - Number of sequences running through the network in one pass.\n",
    "* `num_steps` - Number of characters in the sequence the network is trained on. Larger is better typically, the network will learn more long range dependencies. But it takes longer to train. 100 is typically a good number here.\n",
    "* `lstm_size` - The number of units in the hidden layers.\n",
    "* `num_layers` - Number of hidden LSTM layers to use\n",
    "* `learning_rate` - Learning rate for training\n",
    "* `keep_prob` - The dropout keep probability when training. If you're network is overfitting, try decreasing this.\n",
    "\n",
    "Here's some good advice from Andrej Karpathy on training the network. I'm going to copy it in here for your benefit, but also link to [where it originally came from](https://github.com/karpathy/char-rnn#tips-and-tricks).\n",
    "\n",
    "> ## Tips and Tricks\n",
    "\n",
    ">### Monitoring Validation Loss vs. Training Loss\n",
    ">If you're somewhat new to Machine Learning or Neural Networks it can take a bit of expertise to get good models. The most important quantity to keep track of is the difference between your training loss (printed during training) and the validation loss (printed once in a while when the RNN is run on the validation data (by default every 1000 iterations)). In particular:\n",
    "\n",
    "> - If your training loss is much lower than validation loss then this means the network might be **overfitting**. Solutions to this are to decrease your network size, or to increase dropout. For example you could try dropout of 0.5 and so on.\n",
    "> - If your training/validation loss are about equal then your model is **underfitting**. Increase the size of your model (either number of layers or the raw number of neurons per layer)\n",
    "\n",
    "> ### Approximate number of parameters\n",
    "\n",
    "> The two most important parameters that control the model are `lstm_size` and `num_layers`. I would advise that you always use `num_layers` of either 2/3. The `lstm_size` can be adjusted based on how much data you have. The two important quantities to keep track of here are:\n",
    "\n",
    "> - The number of parameters in your model. This is printed when you start training.\n",
    "> - The size of your dataset. 1MB file is approximately 1 million characters.\n",
    "\n",
    ">These two should be about the same order of magnitude. It's a little tricky to tell. Here are some examples:\n",
    "\n",
    "> - I have a 100MB dataset and I'm using the default parameter settings (which currently print 150K parameters). My data size is significantly larger (100 mil >> 0.15 mil), so I expect to heavily underfit. I am thinking I can comfortably afford to make `lstm_size` larger.\n",
    "> - I have a 10MB dataset and running a 10 million parameter model. I'm slightly nervous and I'm carefully monitoring my validation loss. If it's larger than my training loss then I may want to try to increase dropout a bit and see if that helps the validation loss.\n",
    "\n",
    "> ### Best models strategy\n",
    "\n",
    ">The winning strategy to obtaining very good models (if you have the compute time) is to always err on making the network larger (as large as you're willing to wait for it to compute) and then try different dropout values (between 0,1). Whatever model has the best validation performance (the loss, written in the checkpoint filename, low is good) is the one you should use in the end.\n",
    "\n",
    ">It is very common in deep learning to run many different models with many different hyperparameter settings, and in the end take whatever checkpoint gave the best validation performance.\n",
    "\n",
    ">By the way, the size of your training and validation splits are also parameters. Make sure you have a decent amount of data in your validation set or otherwise the validation performance will be noisy and not very informative."
   ]
  },
  {
   "cell_type": "code",
   "execution_count": 49,
   "metadata": {
    "collapsed": true
   },
   "outputs": [],
   "source": [
    "batch_size = 10         # Sequences per batch\n",
    "num_steps = 50          # Number of sequence steps per batch\n",
    "lstm_size = 128         # Size of hidden layers in LSTMs\n",
    "num_layers = 2          # Number of LSTM layers\n",
    "learning_rate = 0.01    # Learning rate\n",
    "keep_prob = 0.5         # Dropout keep probability"
   ]
  },
  {
   "cell_type": "markdown",
   "metadata": {},
   "source": [
    "## Time for training\n",
    "\n",
    "This is typical training code, passing inputs and targets into the network, then running the optimizer. Here we also get back the final LSTM state for the mini-batch. Then, we pass that state back into the network so the next batch can continue the state from the previous batch. And every so often (set by `save_every_n`) I save a checkpoint.\n",
    "\n",
    "Here I'm saving checkpoints with the format\n",
    "\n",
    "`i{iteration number}_l{# hidden layer units}.ckpt`\n",
    "\n",
    "> **Exercise:** Set the hyperparameters above to train the network. Watch the training loss, it should be consistently dropping. Also, I highly advise running this on a GPU."
   ]
  },
  {
   "cell_type": "code",
   "execution_count": 52,
   "metadata": {
    "collapsed": false,
    "scrolled": true
   },
   "outputs": [
    {
     "name": "stdout",
     "output_type": "stream",
     "text": [
      "Epoch: 1/20...  Training Step: 1...  Training loss: 2.1399...  0.2265 sec/batch\n",
      "Epoch: 1/20...  Training Step: 2...  Training loss: 2.1077...  0.1748 sec/batch\n",
      "Epoch: 1/20...  Training Step: 3...  Training loss: 2.0009...  0.1545 sec/batch\n",
      "Epoch: 1/20...  Training Step: 4...  Training loss: 1.9375...  0.1494 sec/batch\n",
      "Epoch: 1/20...  Training Step: 5...  Training loss: 2.1491...  0.1702 sec/batch\n",
      "Epoch: 1/20...  Training Step: 6...  Training loss: 2.0800...  0.1613 sec/batch\n",
      "Epoch: 1/20...  Training Step: 7...  Training loss: 1.9863...  0.1744 sec/batch\n",
      "Epoch: 1/20...  Training Step: 8...  Training loss: 1.9942...  0.1533 sec/batch\n",
      "Epoch: 1/20...  Training Step: 9...  Training loss: 2.1285...  0.1358 sec/batch\n",
      "Epoch: 1/20...  Training Step: 10...  Training loss: 2.1092...  0.1604 sec/batch\n",
      "Epoch: 1/20...  Training Step: 11...  Training loss: 2.1496...  0.1441 sec/batch\n",
      "Epoch: 1/20...  Training Step: 12...  Training loss: 2.0035...  0.1499 sec/batch\n",
      "Epoch: 1/20...  Training Step: 13...  Training loss: 2.0674...  0.1728 sec/batch\n",
      "Epoch: 1/20...  Training Step: 14...  Training loss: 2.1157...  0.1621 sec/batch\n",
      "Epoch: 1/20...  Training Step: 15...  Training loss: 1.9954...  0.1717 sec/batch\n",
      "Epoch: 1/20...  Training Step: 16...  Training loss: 2.1031...  0.1546 sec/batch\n",
      "Epoch: 1/20...  Training Step: 17...  Training loss: 2.0136...  0.2479 sec/batch\n",
      "Epoch: 1/20...  Training Step: 18...  Training loss: 2.0790...  0.2223 sec/batch\n",
      "Epoch: 1/20...  Training Step: 19...  Training loss: 2.0957...  0.1923 sec/batch\n",
      "Epoch: 1/20...  Training Step: 20...  Training loss: 2.1552...  0.1787 sec/batch\n",
      "Epoch: 1/20...  Training Step: 21...  Training loss: 2.1177...  0.1349 sec/batch\n",
      "Epoch: 1/20...  Training Step: 22...  Training loss: 2.0641...  0.1339 sec/batch\n",
      "Epoch: 1/20...  Training Step: 23...  Training loss: 2.0392...  0.1153 sec/batch\n",
      "Epoch: 1/20...  Training Step: 24...  Training loss: 2.0473...  0.1634 sec/batch\n",
      "Epoch: 1/20...  Training Step: 25...  Training loss: 2.0302...  0.1618 sec/batch\n",
      "Epoch: 1/20...  Training Step: 26...  Training loss: 2.1209...  0.1905 sec/batch\n",
      "Epoch: 1/20...  Training Step: 27...  Training loss: 2.1766...  0.2338 sec/batch\n",
      "Epoch: 1/20...  Training Step: 28...  Training loss: 2.2641...  0.2538 sec/batch\n",
      "Epoch: 1/20...  Training Step: 29...  Training loss: 2.2438...  0.1649 sec/batch\n",
      "Epoch: 1/20...  Training Step: 30...  Training loss: 2.0769...  0.1700 sec/batch\n",
      "Epoch: 1/20...  Training Step: 31...  Training loss: 2.2071...  0.1987 sec/batch\n",
      "Epoch: 1/20...  Training Step: 32...  Training loss: 2.2015...  0.1437 sec/batch\n",
      "Epoch: 1/20...  Training Step: 33...  Training loss: 2.0501...  0.1949 sec/batch\n",
      "Epoch: 1/20...  Training Step: 34...  Training loss: 2.1484...  0.2207 sec/batch\n",
      "Epoch: 1/20...  Training Step: 35...  Training loss: 2.0407...  0.1092 sec/batch\n",
      "Epoch: 1/20...  Training Step: 36...  Training loss: 2.1497...  0.1275 sec/batch\n",
      "Epoch: 1/20...  Training Step: 37...  Training loss: 2.1373...  0.1165 sec/batch\n",
      "Epoch: 1/20...  Training Step: 38...  Training loss: 2.1061...  0.1461 sec/batch\n",
      "Epoch: 1/20...  Training Step: 39...  Training loss: 2.0484...  0.1859 sec/batch\n",
      "Epoch: 1/20...  Training Step: 40...  Training loss: 2.1798...  0.1433 sec/batch\n",
      "Epoch: 1/20...  Training Step: 41...  Training loss: 2.0538...  0.1111 sec/batch\n",
      "Epoch: 1/20...  Training Step: 42...  Training loss: 2.2440...  0.2089 sec/batch\n",
      "Epoch: 1/20...  Training Step: 43...  Training loss: 2.0740...  0.1710 sec/batch\n",
      "Epoch: 1/20...  Training Step: 44...  Training loss: 2.0190...  0.1553 sec/batch\n",
      "Epoch: 1/20...  Training Step: 45...  Training loss: 2.0632...  0.1365 sec/batch\n",
      "Epoch: 1/20...  Training Step: 46...  Training loss: 2.1826...  0.1515 sec/batch\n",
      "Epoch: 1/20...  Training Step: 47...  Training loss: 2.1168...  0.1231 sec/batch\n",
      "Epoch: 1/20...  Training Step: 48...  Training loss: 2.1140...  0.1320 sec/batch\n",
      "Epoch: 1/20...  Training Step: 49...  Training loss: 2.1503...  0.1265 sec/batch\n",
      "Epoch: 1/20...  Training Step: 50...  Training loss: 2.2273...  0.1359 sec/batch\n",
      "Epoch: 1/20...  Training Step: 51...  Training loss: 2.0788...  0.1398 sec/batch\n",
      "Epoch: 1/20...  Training Step: 52...  Training loss: 2.0785...  0.1541 sec/batch\n",
      "Epoch: 1/20...  Training Step: 53...  Training loss: 2.1977...  0.1408 sec/batch\n",
      "Epoch: 1/20...  Training Step: 54...  Training loss: 2.0991...  0.1228 sec/batch\n",
      "Epoch: 1/20...  Training Step: 55...  Training loss: 2.1245...  0.1143 sec/batch\n",
      "Epoch: 1/20...  Training Step: 56...  Training loss: 2.0518...  0.1241 sec/batch\n",
      "Epoch: 1/20...  Training Step: 57...  Training loss: 2.0734...  0.1500 sec/batch\n",
      "Epoch: 1/20...  Training Step: 58...  Training loss: 2.0351...  0.2739 sec/batch\n",
      "Epoch: 1/20...  Training Step: 59...  Training loss: 2.0519...  0.1203 sec/batch\n",
      "Epoch: 1/20...  Training Step: 60...  Training loss: 2.1545...  0.1336 sec/batch\n",
      "Epoch: 1/20...  Training Step: 61...  Training loss: 2.2297...  0.2682 sec/batch\n",
      "Epoch: 1/20...  Training Step: 62...  Training loss: 2.1664...  0.1541 sec/batch\n",
      "Epoch: 1/20...  Training Step: 63...  Training loss: 2.0870...  0.1439 sec/batch\n",
      "Epoch: 1/20...  Training Step: 64...  Training loss: 1.9718...  0.2684 sec/batch\n",
      "Epoch: 1/20...  Training Step: 65...  Training loss: 2.1824...  0.2516 sec/batch\n",
      "Epoch: 1/20...  Training Step: 66...  Training loss: 2.1439...  0.1334 sec/batch\n",
      "Epoch: 1/20...  Training Step: 67...  Training loss: 2.0889...  0.1735 sec/batch\n",
      "Epoch: 1/20...  Training Step: 68...  Training loss: 2.2418...  0.1451 sec/batch\n",
      "Epoch: 1/20...  Training Step: 69...  Training loss: 2.2578...  0.2258 sec/batch\n",
      "Epoch: 1/20...  Training Step: 70...  Training loss: 1.9907...  0.2449 sec/batch\n",
      "Epoch: 1/20...  Training Step: 71...  Training loss: 2.1072...  0.1534 sec/batch\n",
      "Epoch: 1/20...  Training Step: 72...  Training loss: 2.0872...  0.1334 sec/batch\n",
      "Epoch: 1/20...  Training Step: 73...  Training loss: 2.0521...  0.2796 sec/batch\n",
      "Epoch: 1/20...  Training Step: 74...  Training loss: 2.0506...  0.2317 sec/batch\n",
      "Epoch: 1/20...  Training Step: 75...  Training loss: 1.9450...  0.2122 sec/batch\n",
      "Epoch: 1/20...  Training Step: 76...  Training loss: 2.0673...  0.3068 sec/batch\n",
      "Epoch: 1/20...  Training Step: 77...  Training loss: 1.9246...  0.3520 sec/batch\n",
      "Epoch: 1/20...  Training Step: 78...  Training loss: 2.0083...  0.2522 sec/batch\n",
      "Epoch: 1/20...  Training Step: 79...  Training loss: 2.0261...  0.1478 sec/batch\n",
      "Epoch: 1/20...  Training Step: 80...  Training loss: 2.0928...  0.1787 sec/batch\n",
      "Epoch: 1/20...  Training Step: 81...  Training loss: 2.0982...  0.1684 sec/batch\n",
      "Epoch: 1/20...  Training Step: 82...  Training loss: 2.0184...  0.2585 sec/batch\n",
      "Epoch: 1/20...  Training Step: 83...  Training loss: 2.0510...  0.2172 sec/batch\n",
      "Epoch: 1/20...  Training Step: 84...  Training loss: 2.0607...  0.2812 sec/batch\n",
      "Epoch: 1/20...  Training Step: 85...  Training loss: 1.9508...  0.2498 sec/batch\n",
      "Epoch: 1/20...  Training Step: 86...  Training loss: 2.0953...  0.1207 sec/batch\n",
      "Epoch: 1/20...  Training Step: 87...  Training loss: 2.0763...  0.1434 sec/batch\n",
      "Epoch: 1/20...  Training Step: 88...  Training loss: 2.0199...  0.2957 sec/batch\n",
      "Epoch: 1/20...  Training Step: 89...  Training loss: 2.0494...  0.2020 sec/batch\n",
      "Epoch: 1/20...  Training Step: 90...  Training loss: 2.0538...  0.1396 sec/batch\n",
      "Epoch: 1/20...  Training Step: 91...  Training loss: 2.0110...  0.1454 sec/batch\n",
      "Epoch: 1/20...  Training Step: 92...  Training loss: 2.1118...  0.1414 sec/batch\n",
      "Epoch: 1/20...  Training Step: 93...  Training loss: 2.0615...  0.1406 sec/batch\n",
      "Epoch: 1/20...  Training Step: 94...  Training loss: 2.1167...  0.1473 sec/batch\n",
      "Epoch: 1/20...  Training Step: 95...  Training loss: 2.0807...  0.2924 sec/batch\n",
      "Epoch: 1/20...  Training Step: 96...  Training loss: 2.0502...  0.3137 sec/batch\n",
      "Epoch: 1/20...  Training Step: 97...  Training loss: 2.0936...  0.1659 sec/batch\n",
      "Epoch: 1/20...  Training Step: 98...  Training loss: 2.0646...  0.2519 sec/batch\n",
      "Epoch: 1/20...  Training Step: 99...  Training loss: 1.9769...  0.2000 sec/batch\n",
      "Epoch: 1/20...  Training Step: 100...  Training loss: 2.0152...  0.1443 sec/batch\n",
      "Epoch: 1/20...  Training Step: 101...  Training loss: 2.1291...  0.3049 sec/batch\n",
      "Epoch: 1/20...  Training Step: 102...  Training loss: 1.9593...  0.2495 sec/batch\n",
      "Epoch: 1/20...  Training Step: 103...  Training loss: 2.0967...  0.1248 sec/batch\n",
      "Epoch: 1/20...  Training Step: 104...  Training loss: 1.8872...  0.1355 sec/batch\n",
      "Epoch: 1/20...  Training Step: 105...  Training loss: 1.9878...  0.1597 sec/batch\n",
      "Epoch: 1/20...  Training Step: 106...  Training loss: 2.0489...  0.2489 sec/batch\n",
      "Epoch: 1/20...  Training Step: 107...  Training loss: 1.9813...  0.1755 sec/batch\n",
      "Epoch: 1/20...  Training Step: 108...  Training loss: 2.0150...  0.1552 sec/batch\n",
      "Epoch: 1/20...  Training Step: 109...  Training loss: 2.0070...  0.1848 sec/batch\n",
      "Epoch: 1/20...  Training Step: 110...  Training loss: 2.0961...  0.1309 sec/batch\n",
      "Epoch: 1/20...  Training Step: 111...  Training loss: 1.9084...  0.1397 sec/batch\n",
      "Epoch: 1/20...  Training Step: 112...  Training loss: 2.0082...  0.1595 sec/batch\n",
      "Epoch: 1/20...  Training Step: 113...  Training loss: 1.9505...  0.1499 sec/batch\n",
      "Epoch: 1/20...  Training Step: 114...  Training loss: 1.9785...  0.1439 sec/batch\n",
      "Epoch: 1/20...  Training Step: 115...  Training loss: 2.0689...  0.1384 sec/batch\n",
      "Epoch: 1/20...  Training Step: 116...  Training loss: 2.1080...  0.1873 sec/batch\n",
      "Epoch: 1/20...  Training Step: 117...  Training loss: 1.9662...  0.1618 sec/batch\n",
      "Epoch: 1/20...  Training Step: 118...  Training loss: 1.8908...  0.1472 sec/batch\n",
      "Epoch: 1/20...  Training Step: 119...  Training loss: 1.9518...  0.1525 sec/batch\n",
      "Epoch: 1/20...  Training Step: 120...  Training loss: 1.9783...  0.1478 sec/batch\n",
      "Epoch: 1/20...  Training Step: 121...  Training loss: 1.9163...  0.1351 sec/batch\n",
      "Epoch: 1/20...  Training Step: 122...  Training loss: 1.9983...  0.2112 sec/batch\n",
      "Epoch: 1/20...  Training Step: 123...  Training loss: 2.0845...  0.2028 sec/batch\n",
      "Epoch: 1/20...  Training Step: 124...  Training loss: 2.0320...  0.1412 sec/batch\n",
      "Epoch: 1/20...  Training Step: 125...  Training loss: 1.9866...  0.1178 sec/batch\n",
      "Epoch: 1/20...  Training Step: 126...  Training loss: 2.0132...  0.2114 sec/batch\n",
      "Epoch: 1/20...  Training Step: 127...  Training loss: 1.9791...  0.3235 sec/batch\n",
      "Epoch: 1/20...  Training Step: 128...  Training loss: 1.9875...  0.1800 sec/batch\n",
      "Epoch: 1/20...  Training Step: 129...  Training loss: 2.0436...  0.1738 sec/batch\n",
      "Epoch: 1/20...  Training Step: 130...  Training loss: 1.9738...  0.1517 sec/batch\n",
      "Epoch: 1/20...  Training Step: 131...  Training loss: 2.0351...  0.1657 sec/batch\n",
      "Epoch: 1/20...  Training Step: 132...  Training loss: 2.0541...  0.1785 sec/batch\n",
      "Epoch: 1/20...  Training Step: 133...  Training loss: 2.0631...  0.1550 sec/batch\n",
      "Epoch: 1/20...  Training Step: 134...  Training loss: 2.0340...  0.2185 sec/batch\n",
      "Epoch: 1/20...  Training Step: 135...  Training loss: 2.0874...  0.2652 sec/batch\n",
      "Epoch: 1/20...  Training Step: 136...  Training loss: 1.9097...  0.1239 sec/batch\n",
      "Epoch: 1/20...  Training Step: 137...  Training loss: 2.0659...  0.1310 sec/batch\n",
      "Epoch: 1/20...  Training Step: 138...  Training loss: 1.9051...  0.1512 sec/batch\n",
      "Epoch: 1/20...  Training Step: 139...  Training loss: 1.9701...  0.1715 sec/batch\n",
      "Epoch: 1/20...  Training Step: 140...  Training loss: 2.0230...  0.1755 sec/batch\n",
      "Epoch: 1/20...  Training Step: 141...  Training loss: 2.0325...  0.1563 sec/batch\n",
      "Epoch: 1/20...  Training Step: 142...  Training loss: 1.9519...  0.1375 sec/batch\n",
      "Epoch: 1/20...  Training Step: 143...  Training loss: 2.0876...  0.1654 sec/batch\n",
      "Epoch: 1/20...  Training Step: 144...  Training loss: 2.0666...  0.2545 sec/batch\n",
      "Epoch: 1/20...  Training Step: 145...  Training loss: 1.9683...  0.1637 sec/batch\n",
      "Epoch: 1/20...  Training Step: 146...  Training loss: 1.9828...  0.1678 sec/batch\n",
      "Epoch: 1/20...  Training Step: 147...  Training loss: 2.1030...  0.1641 sec/batch\n",
      "Epoch: 1/20...  Training Step: 148...  Training loss: 1.9323...  0.1888 sec/batch\n",
      "Epoch: 1/20...  Training Step: 149...  Training loss: 1.9975...  0.1819 sec/batch\n",
      "Epoch: 1/20...  Training Step: 150...  Training loss: 1.9171...  0.1470 sec/batch\n",
      "Epoch: 1/20...  Training Step: 151...  Training loss: 1.9981...  0.1543 sec/batch\n",
      "Epoch: 1/20...  Training Step: 152...  Training loss: 1.9591...  0.1477 sec/batch\n",
      "Epoch: 1/20...  Training Step: 153...  Training loss: 2.0743...  0.1602 sec/batch\n",
      "Epoch: 1/20...  Training Step: 154...  Training loss: 1.9780...  0.2618 sec/batch\n",
      "Epoch: 1/20...  Training Step: 155...  Training loss: 2.2405...  0.1322 sec/batch\n",
      "Epoch: 1/20...  Training Step: 156...  Training loss: 2.0587...  0.1417 sec/batch\n",
      "Epoch: 1/20...  Training Step: 157...  Training loss: 1.8727...  0.1432 sec/batch\n",
      "Epoch: 1/20...  Training Step: 158...  Training loss: 2.1100...  0.1624 sec/batch\n",
      "Epoch: 1/20...  Training Step: 159...  Training loss: 2.2529...  0.1813 sec/batch\n",
      "Epoch: 1/20...  Training Step: 160...  Training loss: 2.2239...  0.1998 sec/batch\n",
      "Epoch: 1/20...  Training Step: 161...  Training loss: 2.0317...  0.1773 sec/batch\n",
      "Epoch: 1/20...  Training Step: 162...  Training loss: 2.0119...  0.2013 sec/batch\n",
      "Epoch: 1/20...  Training Step: 163...  Training loss: 1.9904...  0.1303 sec/batch\n",
      "Epoch: 1/20...  Training Step: 164...  Training loss: 2.0157...  0.1321 sec/batch\n",
      "Epoch: 1/20...  Training Step: 165...  Training loss: 2.1557...  0.1300 sec/batch\n",
      "Epoch: 1/20...  Training Step: 166...  Training loss: 1.9896...  0.1474 sec/batch\n",
      "Epoch: 1/20...  Training Step: 167...  Training loss: 2.0151...  0.1667 sec/batch\n",
      "Epoch: 1/20...  Training Step: 168...  Training loss: 2.1833...  0.1691 sec/batch\n",
      "Epoch: 1/20...  Training Step: 169...  Training loss: 2.0663...  0.2468 sec/batch\n",
      "Epoch: 1/20...  Training Step: 170...  Training loss: 1.9815...  0.1568 sec/batch\n",
      "Epoch: 1/20...  Training Step: 171...  Training loss: 2.0605...  0.1362 sec/batch\n",
      "Epoch: 1/20...  Training Step: 172...  Training loss: 2.1109...  0.1355 sec/batch\n",
      "Epoch: 1/20...  Training Step: 173...  Training loss: 2.0860...  0.1593 sec/batch\n",
      "Epoch: 1/20...  Training Step: 174...  Training loss: 2.0361...  0.1899 sec/batch\n",
      "Epoch: 1/20...  Training Step: 175...  Training loss: 2.0938...  0.1377 sec/batch\n",
      "Epoch: 1/20...  Training Step: 176...  Training loss: 2.0163...  0.1244 sec/batch\n",
      "Epoch: 1/20...  Training Step: 177...  Training loss: 1.9634...  0.1540 sec/batch\n",
      "Epoch: 1/20...  Training Step: 178...  Training loss: 1.9568...  0.1644 sec/batch\n",
      "Epoch: 1/20...  Training Step: 179...  Training loss: 2.0552...  0.1530 sec/batch\n",
      "Epoch: 1/20...  Training Step: 180...  Training loss: 1.9907...  0.2622 sec/batch\n",
      "Epoch: 1/20...  Training Step: 181...  Training loss: 1.9579...  0.1395 sec/batch\n",
      "Epoch: 1/20...  Training Step: 182...  Training loss: 2.1007...  0.1305 sec/batch\n",
      "Epoch: 1/20...  Training Step: 183...  Training loss: 1.9954...  0.2022 sec/batch\n",
      "Epoch: 1/20...  Training Step: 184...  Training loss: 2.0117...  0.1613 sec/batch\n",
      "Epoch: 1/20...  Training Step: 185...  Training loss: 1.9728...  0.1273 sec/batch\n",
      "Epoch: 1/20...  Training Step: 186...  Training loss: 2.0322...  0.1928 sec/batch\n",
      "Epoch: 1/20...  Training Step: 187...  Training loss: 1.9248...  0.2102 sec/batch\n",
      "Epoch: 1/20...  Training Step: 188...  Training loss: 2.0053...  0.1318 sec/batch\n",
      "Epoch: 1/20...  Training Step: 189...  Training loss: 2.0026...  0.1349 sec/batch\n",
      "Epoch: 1/20...  Training Step: 190...  Training loss: 2.0791...  0.1145 sec/batch\n",
      "Epoch: 1/20...  Training Step: 191...  Training loss: 1.9669...  0.1401 sec/batch\n",
      "Epoch: 1/20...  Training Step: 192...  Training loss: 1.9284...  0.1580 sec/batch\n",
      "Epoch: 1/20...  Training Step: 193...  Training loss: 2.0171...  0.1303 sec/batch\n",
      "Epoch: 1/20...  Training Step: 194...  Training loss: 2.1421...  0.1321 sec/batch\n",
      "Epoch: 1/20...  Training Step: 195...  Training loss: 2.1268...  0.1378 sec/batch\n",
      "Epoch: 1/20...  Training Step: 196...  Training loss: 2.0125...  0.1276 sec/batch\n",
      "Epoch: 1/20...  Training Step: 197...  Training loss: 1.9105...  0.1297 sec/batch\n",
      "Epoch: 1/20...  Training Step: 198...  Training loss: 2.1285...  0.1573 sec/batch\n",
      "Epoch: 1/20...  Training Step: 199...  Training loss: 2.0571...  0.1557 sec/batch\n",
      "Epoch: 1/20...  Training Step: 200...  Training loss: 2.0786...  0.1550 sec/batch\n",
      "Epoch: 1/20...  Training Step: 201...  Training loss: 1.9771...  0.1616 sec/batch\n",
      "Epoch: 1/20...  Training Step: 202...  Training loss: 1.9952...  0.1708 sec/batch\n",
      "Epoch: 1/20...  Training Step: 203...  Training loss: 1.9709...  0.1635 sec/batch\n",
      "Epoch: 1/20...  Training Step: 204...  Training loss: 2.0932...  0.1614 sec/batch\n",
      "Epoch: 1/20...  Training Step: 205...  Training loss: 2.0692...  0.1585 sec/batch\n",
      "Epoch: 1/20...  Training Step: 206...  Training loss: 2.0695...  0.1510 sec/batch\n",
      "Epoch: 1/20...  Training Step: 207...  Training loss: 2.0388...  0.1603 sec/batch\n",
      "Epoch: 1/20...  Training Step: 208...  Training loss: 2.0145...  0.1676 sec/batch\n",
      "Epoch: 1/20...  Training Step: 209...  Training loss: 2.1116...  0.1959 sec/batch\n",
      "Epoch: 1/20...  Training Step: 210...  Training loss: 1.9849...  0.1772 sec/batch\n",
      "Epoch: 1/20...  Training Step: 211...  Training loss: 1.9113...  0.1785 sec/batch\n",
      "Epoch: 1/20...  Training Step: 212...  Training loss: 2.0510...  0.2270 sec/batch\n",
      "Epoch: 1/20...  Training Step: 213...  Training loss: 1.9829...  0.1507 sec/batch\n",
      "Epoch: 1/20...  Training Step: 214...  Training loss: 2.0763...  0.1519 sec/batch\n",
      "Epoch: 1/20...  Training Step: 215...  Training loss: 1.9694...  0.1643 sec/batch\n",
      "Epoch: 1/20...  Training Step: 216...  Training loss: 1.9893...  0.1281 sec/batch\n",
      "Epoch: 1/20...  Training Step: 217...  Training loss: 2.1801...  0.1864 sec/batch\n",
      "Epoch: 1/20...  Training Step: 218...  Training loss: 2.0243...  0.1491 sec/batch\n",
      "Epoch: 1/20...  Training Step: 219...  Training loss: 1.9598...  0.1521 sec/batch\n",
      "Epoch: 1/20...  Training Step: 220...  Training loss: 1.9649...  0.1393 sec/batch\n",
      "Epoch: 1/20...  Training Step: 221...  Training loss: 1.9980...  0.1733 sec/batch\n",
      "Epoch: 1/20...  Training Step: 222...  Training loss: 2.0391...  0.1164 sec/batch\n",
      "Epoch: 1/20...  Training Step: 223...  Training loss: 2.0264...  0.1262 sec/batch\n",
      "Epoch: 1/20...  Training Step: 224...  Training loss: 2.1234...  0.1693 sec/batch\n",
      "Epoch: 1/20...  Training Step: 225...  Training loss: 2.1177...  0.2903 sec/batch\n",
      "Epoch: 1/20...  Training Step: 226...  Training loss: 2.0883...  0.1772 sec/batch\n",
      "Epoch: 1/20...  Training Step: 227...  Training loss: 2.1857...  0.1369 sec/batch\n",
      "Epoch: 1/20...  Training Step: 228...  Training loss: 2.1250...  0.1208 sec/batch\n",
      "Epoch: 1/20...  Training Step: 229...  Training loss: 1.9823...  0.1559 sec/batch\n",
      "Epoch: 1/20...  Training Step: 230...  Training loss: 1.9881...  0.2824 sec/batch\n",
      "Epoch: 1/20...  Training Step: 231...  Training loss: 1.9894...  0.2162 sec/batch\n",
      "Epoch: 1/20...  Training Step: 232...  Training loss: 1.9718...  0.2346 sec/batch\n",
      "Epoch: 1/20...  Training Step: 233...  Training loss: 2.0796...  0.2291 sec/batch\n",
      "Epoch: 1/20...  Training Step: 234...  Training loss: 2.0832...  0.2185 sec/batch\n",
      "Epoch: 1/20...  Training Step: 235...  Training loss: 2.1369...  0.1641 sec/batch\n",
      "Epoch: 1/20...  Training Step: 236...  Training loss: 2.1817...  0.3006 sec/batch\n",
      "Epoch: 1/20...  Training Step: 237...  Training loss: 2.0379...  0.1970 sec/batch\n",
      "Epoch: 1/20...  Training Step: 238...  Training loss: 2.1368...  0.1433 sec/batch\n",
      "Epoch: 1/20...  Training Step: 239...  Training loss: 2.0453...  0.2082 sec/batch\n",
      "Epoch: 1/20...  Training Step: 240...  Training loss: 1.9793...  0.2027 sec/batch\n",
      "Epoch: 1/20...  Training Step: 241...  Training loss: 2.1455...  0.1790 sec/batch\n",
      "Epoch: 1/20...  Training Step: 242...  Training loss: 2.1194...  0.2151 sec/batch\n",
      "Epoch: 1/20...  Training Step: 243...  Training loss: 2.0707...  0.2237 sec/batch\n",
      "Epoch: 1/20...  Training Step: 244...  Training loss: 2.1553...  0.1212 sec/batch\n",
      "Epoch: 1/20...  Training Step: 245...  Training loss: 2.1251...  0.1405 sec/batch\n",
      "Epoch: 1/20...  Training Step: 246...  Training loss: 2.1055...  0.1320 sec/batch\n",
      "Epoch: 1/20...  Training Step: 247...  Training loss: 2.0394...  0.1552 sec/batch\n",
      "Epoch: 1/20...  Training Step: 248...  Training loss: 2.0974...  0.1519 sec/batch\n",
      "Epoch: 1/20...  Training Step: 249...  Training loss: 1.9227...  0.1265 sec/batch\n",
      "Epoch: 1/20...  Training Step: 250...  Training loss: 2.0187...  0.1291 sec/batch\n",
      "Epoch: 1/20...  Training Step: 251...  Training loss: 2.0564...  0.2276 sec/batch\n",
      "Epoch: 1/20...  Training Step: 252...  Training loss: 2.1715...  0.2863 sec/batch\n",
      "Epoch: 1/20...  Training Step: 253...  Training loss: 1.9948...  0.1937 sec/batch\n",
      "Epoch: 1/20...  Training Step: 254...  Training loss: 1.9934...  0.1526 sec/batch\n",
      "Epoch: 1/20...  Training Step: 255...  Training loss: 2.1113...  0.2568 sec/batch\n",
      "Epoch: 1/20...  Training Step: 256...  Training loss: 2.0157...  0.1500 sec/batch\n",
      "Epoch: 1/20...  Training Step: 257...  Training loss: 1.9733...  0.1922 sec/batch\n",
      "Epoch: 1/20...  Training Step: 258...  Training loss: 1.9781...  0.1694 sec/batch\n",
      "Epoch: 1/20...  Training Step: 259...  Training loss: 1.9431...  0.1600 sec/batch\n",
      "Epoch: 1/20...  Training Step: 260...  Training loss: 1.9272...  0.1232 sec/batch\n",
      "Epoch: 1/20...  Training Step: 261...  Training loss: 1.9262...  0.1647 sec/batch\n",
      "Epoch: 1/20...  Training Step: 262...  Training loss: 1.9886...  0.1742 sec/batch\n",
      "Epoch: 1/20...  Training Step: 263...  Training loss: 1.9972...  0.1579 sec/batch\n",
      "Epoch: 1/20...  Training Step: 264...  Training loss: 1.9966...  0.1389 sec/batch\n",
      "Epoch: 1/20...  Training Step: 265...  Training loss: 1.7950...  0.1277 sec/batch\n",
      "Epoch: 1/20...  Training Step: 266...  Training loss: 1.9570...  0.1361 sec/batch\n",
      "Epoch: 1/20...  Training Step: 267...  Training loss: 1.9771...  0.1440 sec/batch\n",
      "Epoch: 1/20...  Training Step: 268...  Training loss: 1.9853...  0.1498 sec/batch\n",
      "Epoch: 1/20...  Training Step: 269...  Training loss: 2.0547...  0.1468 sec/batch\n",
      "Epoch: 1/20...  Training Step: 270...  Training loss: 2.0450...  0.1685 sec/batch\n",
      "Epoch: 1/20...  Training Step: 271...  Training loss: 1.9910...  0.1763 sec/batch\n",
      "Epoch: 1/20...  Training Step: 272...  Training loss: 1.9957...  0.1608 sec/batch\n",
      "Epoch: 1/20...  Training Step: 273...  Training loss: 2.1554...  0.1593 sec/batch\n",
      "Epoch: 1/20...  Training Step: 274...  Training loss: 2.0121...  0.1768 sec/batch\n",
      "Epoch: 1/20...  Training Step: 275...  Training loss: 2.0651...  0.1382 sec/batch\n",
      "Epoch: 1/20...  Training Step: 276...  Training loss: 1.9790...  0.1594 sec/batch\n",
      "Epoch: 1/20...  Training Step: 277...  Training loss: 1.9981...  0.1597 sec/batch\n",
      "Epoch: 1/20...  Training Step: 278...  Training loss: 2.1562...  0.1543 sec/batch\n",
      "Epoch: 1/20...  Training Step: 279...  Training loss: 1.9876...  0.1625 sec/batch\n",
      "Epoch: 1/20...  Training Step: 280...  Training loss: 2.0140...  0.1661 sec/batch\n",
      "Epoch: 1/20...  Training Step: 281...  Training loss: 1.9264...  0.1609 sec/batch\n",
      "Epoch: 1/20...  Training Step: 282...  Training loss: 1.9430...  0.1572 sec/batch\n",
      "Epoch: 1/20...  Training Step: 283...  Training loss: 1.8658...  0.1624 sec/batch\n",
      "Epoch: 1/20...  Training Step: 284...  Training loss: 2.0766...  0.1440 sec/batch\n",
      "Epoch: 1/20...  Training Step: 285...  Training loss: 1.9952...  0.1614 sec/batch\n",
      "Epoch: 1/20...  Training Step: 286...  Training loss: 1.9455...  0.2628 sec/batch\n",
      "Epoch: 1/20...  Training Step: 287...  Training loss: 1.9314...  0.2306 sec/batch\n",
      "Epoch: 1/20...  Training Step: 288...  Training loss: 2.1817...  0.2938 sec/batch\n",
      "Epoch: 1/20...  Training Step: 289...  Training loss: 1.8771...  0.1418 sec/batch\n",
      "Epoch: 1/20...  Training Step: 290...  Training loss: 1.9805...  0.1618 sec/batch\n",
      "Epoch: 1/20...  Training Step: 291...  Training loss: 1.9673...  0.1303 sec/batch\n",
      "Epoch: 1/20...  Training Step: 292...  Training loss: 1.9715...  0.1451 sec/batch\n",
      "Epoch: 1/20...  Training Step: 293...  Training loss: 1.9398...  0.1506 sec/batch\n",
      "Epoch: 1/20...  Training Step: 294...  Training loss: 1.9245...  0.1705 sec/batch\n",
      "Epoch: 1/20...  Training Step: 295...  Training loss: 2.0833...  0.1332 sec/batch\n",
      "Epoch: 1/20...  Training Step: 296...  Training loss: 1.9916...  0.1553 sec/batch\n",
      "Epoch: 1/20...  Training Step: 297...  Training loss: 1.8801...  0.1444 sec/batch\n",
      "Epoch: 1/20...  Training Step: 298...  Training loss: 1.9765...  0.1716 sec/batch\n",
      "Epoch: 1/20...  Training Step: 299...  Training loss: 1.9546...  0.1382 sec/batch\n",
      "Epoch: 1/20...  Training Step: 300...  Training loss: 1.9625...  0.1440 sec/batch\n",
      "Epoch: 1/20...  Training Step: 301...  Training loss: 1.9607...  0.1563 sec/batch\n",
      "Epoch: 1/20...  Training Step: 302...  Training loss: 1.9410...  0.1630 sec/batch\n",
      "Epoch: 1/20...  Training Step: 303...  Training loss: 1.9193...  0.1609 sec/batch\n",
      "Epoch: 1/20...  Training Step: 304...  Training loss: 2.0107...  0.2255 sec/batch\n",
      "Epoch: 1/20...  Training Step: 305...  Training loss: 2.0473...  0.1861 sec/batch\n",
      "Epoch: 1/20...  Training Step: 306...  Training loss: 1.9150...  0.1576 sec/batch\n",
      "Epoch: 1/20...  Training Step: 307...  Training loss: 2.1331...  0.1293 sec/batch\n",
      "Epoch: 1/20...  Training Step: 308...  Training loss: 2.0540...  0.2378 sec/batch\n",
      "Epoch: 1/20...  Training Step: 309...  Training loss: 1.9958...  0.2258 sec/batch\n",
      "Epoch: 1/20...  Training Step: 310...  Training loss: 2.0613...  0.2719 sec/batch\n",
      "Epoch: 1/20...  Training Step: 311...  Training loss: 2.0636...  0.2063 sec/batch\n",
      "Epoch: 1/20...  Training Step: 312...  Training loss: 1.9653...  0.1809 sec/batch\n",
      "Epoch: 1/20...  Training Step: 313...  Training loss: 1.9484...  0.1388 sec/batch\n",
      "Epoch: 1/20...  Training Step: 314...  Training loss: 1.9626...  0.1274 sec/batch\n",
      "Epoch: 1/20...  Training Step: 315...  Training loss: 2.0474...  0.1416 sec/batch\n",
      "Epoch: 1/20...  Training Step: 316...  Training loss: 2.0756...  0.1728 sec/batch\n",
      "Epoch: 1/20...  Training Step: 317...  Training loss: 1.9818...  0.1617 sec/batch\n",
      "Epoch: 1/20...  Training Step: 318...  Training loss: 2.0328...  0.1324 sec/batch\n",
      "Epoch: 1/20...  Training Step: 319...  Training loss: 1.9956...  0.1576 sec/batch\n",
      "Epoch: 1/20...  Training Step: 320...  Training loss: 2.0806...  0.1391 sec/batch\n",
      "Epoch: 1/20...  Training Step: 321...  Training loss: 2.0328...  0.1376 sec/batch\n",
      "Epoch: 1/20...  Training Step: 322...  Training loss: 1.8166...  0.1458 sec/batch\n",
      "Epoch: 1/20...  Training Step: 323...  Training loss: 2.0230...  0.1642 sec/batch\n",
      "Epoch: 1/20...  Training Step: 324...  Training loss: 1.9728...  0.1560 sec/batch\n",
      "Epoch: 1/20...  Training Step: 325...  Training loss: 1.9951...  0.1532 sec/batch\n",
      "Epoch: 1/20...  Training Step: 326...  Training loss: 2.0427...  0.1383 sec/batch\n",
      "Epoch: 1/20...  Training Step: 327...  Training loss: 2.0609...  0.1651 sec/batch\n",
      "Epoch: 1/20...  Training Step: 328...  Training loss: 1.9993...  0.1404 sec/batch\n",
      "Epoch: 1/20...  Training Step: 329...  Training loss: 2.0864...  0.1482 sec/batch\n",
      "Epoch: 1/20...  Training Step: 330...  Training loss: 1.9518...  0.2145 sec/batch\n",
      "Epoch: 1/20...  Training Step: 331...  Training loss: 1.9644...  0.2010 sec/batch\n",
      "Epoch: 1/20...  Training Step: 332...  Training loss: 2.0875...  0.1729 sec/batch\n",
      "Epoch: 1/20...  Training Step: 333...  Training loss: 1.9539...  0.1690 sec/batch\n",
      "Epoch: 1/20...  Training Step: 334...  Training loss: 2.0346...  0.1403 sec/batch\n",
      "Epoch: 1/20...  Training Step: 335...  Training loss: 2.1367...  0.1093 sec/batch\n",
      "Epoch: 1/20...  Training Step: 336...  Training loss: 2.0880...  0.1724 sec/batch\n",
      "Epoch: 1/20...  Training Step: 337...  Training loss: 1.9960...  0.1531 sec/batch\n",
      "Epoch: 1/20...  Training Step: 338...  Training loss: 1.8767...  0.1691 sec/batch\n",
      "Epoch: 1/20...  Training Step: 339...  Training loss: 2.0016...  0.1441 sec/batch\n",
      "Epoch: 1/20...  Training Step: 340...  Training loss: 2.0655...  0.1557 sec/batch\n",
      "Epoch: 1/20...  Training Step: 341...  Training loss: 2.2615...  0.1802 sec/batch\n",
      "Epoch: 1/20...  Training Step: 342...  Training loss: 2.1817...  0.1796 sec/batch\n",
      "Epoch: 1/20...  Training Step: 343...  Training loss: 2.1637...  0.1912 sec/batch\n",
      "Epoch: 1/20...  Training Step: 344...  Training loss: 1.9829...  0.1302 sec/batch\n",
      "Epoch: 1/20...  Training Step: 345...  Training loss: 1.9350...  0.1479 sec/batch\n",
      "Epoch: 1/20...  Training Step: 346...  Training loss: 2.0904...  0.1794 sec/batch\n",
      "Epoch: 1/20...  Training Step: 347...  Training loss: 2.1146...  0.2348 sec/batch\n",
      "Epoch: 1/20...  Training Step: 348...  Training loss: 1.9794...  0.1519 sec/batch\n",
      "Epoch: 1/20...  Training Step: 349...  Training loss: 2.0499...  0.2021 sec/batch\n",
      "Epoch: 1/20...  Training Step: 350...  Training loss: 1.9838...  0.1452 sec/batch\n",
      "Epoch: 1/20...  Training Step: 351...  Training loss: 1.9943...  0.1320 sec/batch\n",
      "Epoch: 1/20...  Training Step: 352...  Training loss: 1.9364...  0.1291 sec/batch\n",
      "Epoch: 1/20...  Training Step: 353...  Training loss: 2.0566...  0.1490 sec/batch\n",
      "Epoch: 1/20...  Training Step: 354...  Training loss: 1.9820...  0.1126 sec/batch\n",
      "Epoch: 1/20...  Training Step: 355...  Training loss: 2.0194...  0.1380 sec/batch\n",
      "Epoch: 1/20...  Training Step: 356...  Training loss: 2.0140...  0.1225 sec/batch\n",
      "Epoch: 1/20...  Training Step: 357...  Training loss: 2.1254...  0.1407 sec/batch\n",
      "Epoch: 1/20...  Training Step: 358...  Training loss: 2.0348...  0.1133 sec/batch\n",
      "Epoch: 1/20...  Training Step: 359...  Training loss: 1.9087...  0.1236 sec/batch\n",
      "Epoch: 1/20...  Training Step: 360...  Training loss: 2.0446...  0.1219 sec/batch\n",
      "Epoch: 1/20...  Training Step: 361...  Training loss: 2.0648...  0.1341 sec/batch\n",
      "Epoch: 1/20...  Training Step: 362...  Training loss: 2.0184...  0.1067 sec/batch\n",
      "Epoch: 1/20...  Training Step: 363...  Training loss: 2.0672...  0.1091 sec/batch\n",
      "Epoch: 1/20...  Training Step: 364...  Training loss: 1.9323...  0.1343 sec/batch\n",
      "Epoch: 1/20...  Training Step: 365...  Training loss: 2.0507...  0.1351 sec/batch\n",
      "Epoch: 1/20...  Training Step: 366...  Training loss: 2.0067...  0.1280 sec/batch\n",
      "Epoch: 1/20...  Training Step: 367...  Training loss: 2.1233...  0.1472 sec/batch\n",
      "Epoch: 1/20...  Training Step: 368...  Training loss: 2.0741...  0.1497 sec/batch\n",
      "Epoch: 1/20...  Training Step: 369...  Training loss: 2.0155...  0.1539 sec/batch\n",
      "Epoch: 1/20...  Training Step: 370...  Training loss: 2.0191...  0.1374 sec/batch\n",
      "Epoch: 1/20...  Training Step: 371...  Training loss: 1.9870...  0.1407 sec/batch\n",
      "Epoch: 1/20...  Training Step: 372...  Training loss: 1.9872...  0.1403 sec/batch\n",
      "Epoch: 1/20...  Training Step: 373...  Training loss: 1.9998...  0.1664 sec/batch\n",
      "Epoch: 1/20...  Training Step: 374...  Training loss: 1.8733...  0.1799 sec/batch\n",
      "Epoch: 1/20...  Training Step: 375...  Training loss: 1.9648...  0.1758 sec/batch\n",
      "Epoch: 1/20...  Training Step: 376...  Training loss: 1.9609...  0.1211 sec/batch\n",
      "Epoch: 1/20...  Training Step: 377...  Training loss: 2.1044...  0.1657 sec/batch\n",
      "Epoch: 1/20...  Training Step: 378...  Training loss: 1.9748...  0.1558 sec/batch\n",
      "Epoch: 1/20...  Training Step: 379...  Training loss: 2.0227...  0.1513 sec/batch\n",
      "Epoch: 1/20...  Training Step: 380...  Training loss: 1.9557...  0.0949 sec/batch\n",
      "Epoch: 1/20...  Training Step: 381...  Training loss: 2.0544...  0.1644 sec/batch\n",
      "Epoch: 1/20...  Training Step: 382...  Training loss: 1.9891...  0.1779 sec/batch\n",
      "Epoch: 1/20...  Training Step: 383...  Training loss: 2.0709...  0.1437 sec/batch\n",
      "Epoch: 1/20...  Training Step: 384...  Training loss: 2.0980...  0.1455 sec/batch\n",
      "Epoch: 1/20...  Training Step: 385...  Training loss: 2.0641...  0.1628 sec/batch\n",
      "Epoch: 1/20...  Training Step: 386...  Training loss: 2.0447...  0.1641 sec/batch\n",
      "Epoch: 1/20...  Training Step: 387...  Training loss: 2.0007...  0.2069 sec/batch\n",
      "Epoch: 1/20...  Training Step: 388...  Training loss: 2.0435...  0.1498 sec/batch\n",
      "Epoch: 1/20...  Training Step: 389...  Training loss: 1.8820...  0.1661 sec/batch\n",
      "Epoch: 1/20...  Training Step: 390...  Training loss: 1.9789...  0.1808 sec/batch\n",
      "Epoch: 1/20...  Training Step: 391...  Training loss: 1.9096...  0.2095 sec/batch\n",
      "Epoch: 1/20...  Training Step: 392...  Training loss: 2.0243...  0.2486 sec/batch\n",
      "Epoch: 1/20...  Training Step: 393...  Training loss: 1.9652...  0.2057 sec/batch\n",
      "Epoch: 1/20...  Training Step: 394...  Training loss: 2.0130...  0.1893 sec/batch\n",
      "Epoch: 1/20...  Training Step: 395...  Training loss: 2.0322...  0.1416 sec/batch\n",
      "Epoch: 1/20...  Training Step: 396...  Training loss: 2.0048...  0.1250 sec/batch\n",
      "Epoch: 1/20...  Training Step: 397...  Training loss: 2.0128...  0.1833 sec/batch\n",
      "Epoch: 1/20...  Training Step: 398...  Training loss: 2.0775...  0.1686 sec/batch\n",
      "Epoch: 1/20...  Training Step: 399...  Training loss: 1.9936...  0.1299 sec/batch\n",
      "Epoch: 1/20...  Training Step: 400...  Training loss: 1.9504...  0.1207 sec/batch\n"
     ]
    },
    {
     "ename": "KeyboardInterrupt",
     "evalue": "",
     "output_type": "error",
     "traceback": [
      "\u001b[0;31m---------------------------------------------------------------------------\u001b[0m",
      "\u001b[0;31mKeyboardInterrupt\u001b[0m                         Traceback (most recent call last)",
      "\u001b[0;32m<ipython-input-52-70aeaa6636b5>\u001b[0m in \u001b[0;36m<module>\u001b[0;34m()\u001b[0m\n\u001b[1;32m     28\u001b[0m                                                  \u001b[0mmodel\u001b[0m\u001b[0;34m.\u001b[0m\u001b[0mfinal_state\u001b[0m\u001b[0;34m,\u001b[0m\u001b[0;34m\u001b[0m\u001b[0m\n\u001b[1;32m     29\u001b[0m                                                  model.optimizer], \n\u001b[0;32m---> 30\u001b[0;31m                                                  feed_dict=feed)\n\u001b[0m\u001b[1;32m     31\u001b[0m \u001b[0;34m\u001b[0m\u001b[0m\n\u001b[1;32m     32\u001b[0m             \u001b[0mend\u001b[0m \u001b[0;34m=\u001b[0m \u001b[0mtime\u001b[0m\u001b[0;34m.\u001b[0m\u001b[0mtime\u001b[0m\u001b[0;34m(\u001b[0m\u001b[0;34m)\u001b[0m\u001b[0;34m\u001b[0m\u001b[0m\n",
      "\u001b[0;32m/Users/fanfan/anaconda/envs/dlnd-tf-lab/lib/python3.5/site-packages/tensorflow/python/client/session.py\u001b[0m in \u001b[0;36mrun\u001b[0;34m(self, fetches, feed_dict, options, run_metadata)\u001b[0m\n\u001b[1;32m    765\u001b[0m     \u001b[0;32mtry\u001b[0m\u001b[0;34m:\u001b[0m\u001b[0;34m\u001b[0m\u001b[0m\n\u001b[1;32m    766\u001b[0m       result = self._run(None, fetches, feed_dict, options_ptr,\n\u001b[0;32m--> 767\u001b[0;31m                          run_metadata_ptr)\n\u001b[0m\u001b[1;32m    768\u001b[0m       \u001b[0;32mif\u001b[0m \u001b[0mrun_metadata\u001b[0m\u001b[0;34m:\u001b[0m\u001b[0;34m\u001b[0m\u001b[0m\n\u001b[1;32m    769\u001b[0m         \u001b[0mproto_data\u001b[0m \u001b[0;34m=\u001b[0m \u001b[0mtf_session\u001b[0m\u001b[0;34m.\u001b[0m\u001b[0mTF_GetBuffer\u001b[0m\u001b[0;34m(\u001b[0m\u001b[0mrun_metadata_ptr\u001b[0m\u001b[0;34m)\u001b[0m\u001b[0;34m\u001b[0m\u001b[0m\n",
      "\u001b[0;32m/Users/fanfan/anaconda/envs/dlnd-tf-lab/lib/python3.5/site-packages/tensorflow/python/client/session.py\u001b[0m in \u001b[0;36m_run\u001b[0;34m(self, handle, fetches, feed_dict, options, run_metadata)\u001b[0m\n\u001b[1;32m    963\u001b[0m     \u001b[0;32mif\u001b[0m \u001b[0mfinal_fetches\u001b[0m \u001b[0;32mor\u001b[0m \u001b[0mfinal_targets\u001b[0m\u001b[0;34m:\u001b[0m\u001b[0;34m\u001b[0m\u001b[0m\n\u001b[1;32m    964\u001b[0m       results = self._do_run(handle, final_targets, final_fetches,\n\u001b[0;32m--> 965\u001b[0;31m                              feed_dict_string, options, run_metadata)\n\u001b[0m\u001b[1;32m    966\u001b[0m     \u001b[0;32melse\u001b[0m\u001b[0;34m:\u001b[0m\u001b[0;34m\u001b[0m\u001b[0m\n\u001b[1;32m    967\u001b[0m       \u001b[0mresults\u001b[0m \u001b[0;34m=\u001b[0m \u001b[0;34m[\u001b[0m\u001b[0;34m]\u001b[0m\u001b[0;34m\u001b[0m\u001b[0m\n",
      "\u001b[0;32m/Users/fanfan/anaconda/envs/dlnd-tf-lab/lib/python3.5/site-packages/tensorflow/python/client/session.py\u001b[0m in \u001b[0;36m_do_run\u001b[0;34m(self, handle, target_list, fetch_list, feed_dict, options, run_metadata)\u001b[0m\n\u001b[1;32m   1013\u001b[0m     \u001b[0;32mif\u001b[0m \u001b[0mhandle\u001b[0m \u001b[0;32mis\u001b[0m \u001b[0;32mNone\u001b[0m\u001b[0;34m:\u001b[0m\u001b[0;34m\u001b[0m\u001b[0m\n\u001b[1;32m   1014\u001b[0m       return self._do_call(_run_fn, self._session, feed_dict, fetch_list,\n\u001b[0;32m-> 1015\u001b[0;31m                            target_list, options, run_metadata)\n\u001b[0m\u001b[1;32m   1016\u001b[0m     \u001b[0;32melse\u001b[0m\u001b[0;34m:\u001b[0m\u001b[0;34m\u001b[0m\u001b[0m\n\u001b[1;32m   1017\u001b[0m       return self._do_call(_prun_fn, self._session, handle, feed_dict,\n",
      "\u001b[0;32m/Users/fanfan/anaconda/envs/dlnd-tf-lab/lib/python3.5/site-packages/tensorflow/python/client/session.py\u001b[0m in \u001b[0;36m_do_call\u001b[0;34m(self, fn, *args)\u001b[0m\n\u001b[1;32m   1020\u001b[0m   \u001b[0;32mdef\u001b[0m \u001b[0m_do_call\u001b[0m\u001b[0;34m(\u001b[0m\u001b[0mself\u001b[0m\u001b[0;34m,\u001b[0m \u001b[0mfn\u001b[0m\u001b[0;34m,\u001b[0m \u001b[0;34m*\u001b[0m\u001b[0margs\u001b[0m\u001b[0;34m)\u001b[0m\u001b[0;34m:\u001b[0m\u001b[0;34m\u001b[0m\u001b[0m\n\u001b[1;32m   1021\u001b[0m     \u001b[0;32mtry\u001b[0m\u001b[0;34m:\u001b[0m\u001b[0;34m\u001b[0m\u001b[0m\n\u001b[0;32m-> 1022\u001b[0;31m       \u001b[0;32mreturn\u001b[0m \u001b[0mfn\u001b[0m\u001b[0;34m(\u001b[0m\u001b[0;34m*\u001b[0m\u001b[0margs\u001b[0m\u001b[0;34m)\u001b[0m\u001b[0;34m\u001b[0m\u001b[0m\n\u001b[0m\u001b[1;32m   1023\u001b[0m     \u001b[0;32mexcept\u001b[0m \u001b[0merrors\u001b[0m\u001b[0;34m.\u001b[0m\u001b[0mOpError\u001b[0m \u001b[0;32mas\u001b[0m \u001b[0me\u001b[0m\u001b[0;34m:\u001b[0m\u001b[0;34m\u001b[0m\u001b[0m\n\u001b[1;32m   1024\u001b[0m       \u001b[0mmessage\u001b[0m \u001b[0;34m=\u001b[0m \u001b[0mcompat\u001b[0m\u001b[0;34m.\u001b[0m\u001b[0mas_text\u001b[0m\u001b[0;34m(\u001b[0m\u001b[0me\u001b[0m\u001b[0;34m.\u001b[0m\u001b[0mmessage\u001b[0m\u001b[0;34m)\u001b[0m\u001b[0;34m\u001b[0m\u001b[0m\n",
      "\u001b[0;32m/Users/fanfan/anaconda/envs/dlnd-tf-lab/lib/python3.5/site-packages/tensorflow/python/client/session.py\u001b[0m in \u001b[0;36m_run_fn\u001b[0;34m(session, feed_dict, fetch_list, target_list, options, run_metadata)\u001b[0m\n\u001b[1;32m   1002\u001b[0m         return tf_session.TF_Run(session, options,\n\u001b[1;32m   1003\u001b[0m                                  \u001b[0mfeed_dict\u001b[0m\u001b[0;34m,\u001b[0m \u001b[0mfetch_list\u001b[0m\u001b[0;34m,\u001b[0m \u001b[0mtarget_list\u001b[0m\u001b[0;34m,\u001b[0m\u001b[0;34m\u001b[0m\u001b[0m\n\u001b[0;32m-> 1004\u001b[0;31m                                  status, run_metadata)\n\u001b[0m\u001b[1;32m   1005\u001b[0m \u001b[0;34m\u001b[0m\u001b[0m\n\u001b[1;32m   1006\u001b[0m     \u001b[0;32mdef\u001b[0m \u001b[0m_prun_fn\u001b[0m\u001b[0;34m(\u001b[0m\u001b[0msession\u001b[0m\u001b[0;34m,\u001b[0m \u001b[0mhandle\u001b[0m\u001b[0;34m,\u001b[0m \u001b[0mfeed_dict\u001b[0m\u001b[0;34m,\u001b[0m \u001b[0mfetch_list\u001b[0m\u001b[0;34m)\u001b[0m\u001b[0;34m:\u001b[0m\u001b[0;34m\u001b[0m\u001b[0m\n",
      "\u001b[0;31mKeyboardInterrupt\u001b[0m: "
     ]
    }
   ],
   "source": [
    "epochs = 20\n",
    "# Save every N iterations\n",
    "save_every_n = 200\n",
    "\n",
    "model = CharRNN(len(vocab), batch_size=batch_size, num_steps=num_steps,\n",
    "                lstm_size=lstm_size, num_layers=num_layers, \n",
    "                learning_rate=learning_rate)\n",
    "\n",
    "saver = tf.train.Saver(max_to_keep=100)\n",
    "with tf.Session() as sess:\n",
    "    sess.run(tf.global_variables_initializer())\n",
    "    \n",
    "    # Use the line below to load a checkpoint and resume training\n",
    "    saver.restore(sess, 'checkpoints/i600_l128.ckpt')\n",
    "    counter = 0\n",
    "    for e in range(epochs):\n",
    "        # Train network\n",
    "        new_state = sess.run(model.initial_state)\n",
    "        loss = 0\n",
    "        for x, y in get_batches(encoded, batch_size, num_steps):\n",
    "            counter += 1\n",
    "            start = time.time()\n",
    "            feed = {model.inputs: x,\n",
    "                    model.targets: y,\n",
    "                    model.keep_prob: keep_prob,\n",
    "                    model.initial_state: new_state}\n",
    "            batch_loss, new_state, _ = sess.run([model.loss, \n",
    "                                                 model.final_state, \n",
    "                                                 model.optimizer], \n",
    "                                                 feed_dict=feed)\n",
    "            \n",
    "            end = time.time()\n",
    "            print('Epoch: {}/{}... '.format(e+1, epochs),\n",
    "                  'Training Step: {}... '.format(counter),\n",
    "                  'Training loss: {:.4f}... '.format(batch_loss),\n",
    "                  '{:.4f} sec/batch'.format((end-start)))\n",
    "        \n",
    "            if (counter % save_every_n == 0):\n",
    "                saver.save(sess, \"checkpoints/i{}_l{}.ckpt\".format(counter, lstm_size))\n",
    "    \n",
    "    saver.save(sess, \"checkpoints/i{}_l{}.ckpt\".format(counter, lstm_size))"
   ]
  },
  {
   "cell_type": "markdown",
   "metadata": {},
   "source": [
    "#### Saved checkpoints\n",
    "\n",
    "Read up on saving and loading checkpoints here: https://www.tensorflow.org/programmers_guide/variables"
   ]
  },
  {
   "cell_type": "code",
   "execution_count": 53,
   "metadata": {
    "collapsed": false
   },
   "outputs": [
    {
     "data": {
      "text/plain": [
       "model_checkpoint_path: \"checkpoints/i400_l128.ckpt\"\n",
       "all_model_checkpoint_paths: \"checkpoints/i200_l128.ckpt\"\n",
       "all_model_checkpoint_paths: \"checkpoints/i400_l128.ckpt\""
      ]
     },
     "execution_count": 53,
     "metadata": {},
     "output_type": "execute_result"
    }
   ],
   "source": [
    "tf.train.get_checkpoint_state('checkpoints')"
   ]
  },
  {
   "cell_type": "markdown",
   "metadata": {},
   "source": [
    "## Sampling\n",
    "\n",
    "Now that the network is trained, we'll can use it to generate new text. The idea is that we pass in a character, then the network will predict the next character. We can use the new one, to predict the next one. And we keep doing this to generate all new text. I also included some functionality to prime the network with some text by passing in a string and building up a state from that.\n",
    "\n",
    "The network gives us predictions for each character. To reduce noise and make things a little less random, I'm going to only choose a new character from the top N most likely characters.\n",
    "\n"
   ]
  },
  {
   "cell_type": "code",
   "execution_count": 60,
   "metadata": {
    "collapsed": true
   },
   "outputs": [],
   "source": [
    "def pick_top_n(preds, vocab_size, top_n=5):\n",
    "    p = np.squeeze(preds)\n",
    "    p[np.argsort(p)[:-top_n]] = 0\n",
    "    p = p / np.sum(p)\n",
    "    c = np.random.choice(vocab_size, 1, p=p)[0]\n",
    "    return c"
   ]
  },
  {
   "cell_type": "code",
   "execution_count": 56,
   "metadata": {
    "collapsed": true
   },
   "outputs": [],
   "source": [
    "def sample(checkpoint, n_samples, lstm_size, vocab_size, prime=\"The \"):\n",
    "    samples = [c for c in prime]\n",
    "    model = CharRNN(len(vocab), lstm_size=lstm_size, sampling=True)\n",
    "    saver = tf.train.Saver()\n",
    "    with tf.Session() as sess:\n",
    "        saver.restore(sess, checkpoint)\n",
    "        new_state = sess.run(model.initial_state)\n",
    "        for c in prime:\n",
    "            x = np.zeros((1, 1))\n",
    "            x[0,0] = vocab_to_int[c]\n",
    "            feed = {model.inputs: x,\n",
    "                    model.keep_prob: 1.,\n",
    "                    model.initial_state: new_state}\n",
    "            preds, new_state = sess.run([model.prediction, model.final_state], \n",
    "                                         feed_dict=feed)\n",
    "\n",
    "        c = pick_top_n(preds, len(vocab))\n",
    "        samples.append(int_to_vocab[c])\n",
    "\n",
    "        for i in range(n_samples):\n",
    "            x[0,0] = c\n",
    "            feed = {model.inputs: x,\n",
    "                    model.keep_prob: 1.,\n",
    "                    model.initial_state: new_state}\n",
    "            preds, new_state = sess.run([model.prediction, model.final_state], \n",
    "                                         feed_dict=feed)\n",
    "\n",
    "            c = pick_top_n(preds, len(vocab))\n",
    "            samples.append(int_to_vocab[c])\n",
    "        \n",
    "    return ''.join(samples)"
   ]
  },
  {
   "cell_type": "markdown",
   "metadata": {},
   "source": [
    "Here, pass in the path to a checkpoint and sample from the network."
   ]
  },
  {
   "cell_type": "code",
   "execution_count": 54,
   "metadata": {
    "collapsed": false
   },
   "outputs": [
    {
     "data": {
      "text/plain": [
       "'checkpoints/i400_l128.ckpt'"
      ]
     },
     "execution_count": 54,
     "metadata": {},
     "output_type": "execute_result"
    }
   ],
   "source": [
    "tf.train.latest_checkpoint('checkpoints')"
   ]
  },
  {
   "cell_type": "code",
   "execution_count": null,
   "metadata": {
    "collapsed": true
   },
   "outputs": [],
   "source": [
    "checkpoint = tf.train.latest_checkpoint('checkpoints')\n",
    "samp = sample(checkpoint, 2000, lstm_size, len(vocab), prime=\"Far\")\n",
    "print(samp)"
   ]
  },
  {
   "cell_type": "code",
   "execution_count": 61,
   "metadata": {
    "collapsed": false
   },
   "outputs": [
    {
     "name": "stdout",
     "output_type": "stream",
     "text": [
      "Fard wer eeatited,. tant hin had not\n",
      "that not\n",
      "nosking ounly, whel an he sood. To he\n",
      "sit, hood him to her a of extaserong and\n",
      "as her all houst ther tore his asaar of, andre had tind and had alexs imes. To his tear the waind himserthithand as.\n",
      "\n",
      "\"Iom to browhing there had both,\" and was have sisse to seise of not terothand and suts. That talking\n",
      "whatt and teed in here his\n",
      "louked had someing till.\n",
      "\"Thes incing and seepouse,\n",
      "that that teer and ta the had whrer shat that and. \n",
      "\n",
      "now was had terting, humererase worinnen it thouthed and, how he sas in sare\n",
      "brutery bomad thin to shick,\" and his sorked, her\n",
      "thy tire had anron with his bray\n",
      "wherere to at, in andming not look as. \"Thentiring ip of proander tolate in that hard baad it. And his his id antter a they hais in ind till a nenger.\"\n",
      "\n",
      "Antothing in the doron a as than alr hereess excente and will tood see with a si sie and that sice the saying to to icer here as here the saed\n",
      "with on tom and thas teter, he sat\n",
      "anto to thars some her sandwed and a\n"
     ]
    }
   ],
   "source": [
    "checkpoint = 'checkpoints/i200_l128.ckpt'\n",
    "samp = sample(checkpoint, 1000, lstm_size, len(vocab), prime=\"Far\")\n",
    "print(samp)"
   ]
  },
  {
   "cell_type": "code",
   "execution_count": null,
   "metadata": {
    "collapsed": true
   },
   "outputs": [],
   "source": [
    "checkpoint = 'checkpoints/i600_l512.ckpt'\n",
    "samp = sample(checkpoint, 1000, lstm_size, len(vocab), prime=\"Far\")\n",
    "print(samp)"
   ]
  },
  {
   "cell_type": "code",
   "execution_count": null,
   "metadata": {
    "collapsed": true
   },
   "outputs": [],
   "source": [
    "checkpoint = 'checkpoints/i1200_l512.ckpt'\n",
    "samp = sample(checkpoint, 1000, lstm_size, len(vocab), prime=\"Far\")\n",
    "print(samp)"
   ]
  }
 ],
 "metadata": {
  "anaconda-cloud": {},
  "kernelspec": {
   "display_name": "Python [conda env:dlnd-tf-lab]",
   "language": "python",
   "name": "conda-env-dlnd-tf-lab-py"
  },
  "language_info": {
   "codemirror_mode": {
    "name": "ipython",
    "version": 3
   },
   "file_extension": ".py",
   "mimetype": "text/x-python",
   "name": "python",
   "nbconvert_exporter": "python",
   "pygments_lexer": "ipython3",
   "version": "3.5.3"
  }
 },
 "nbformat": 4,
 "nbformat_minor": 2
}
