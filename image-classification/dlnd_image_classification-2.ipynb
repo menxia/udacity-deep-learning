{
 "cells": [
  {
   "cell_type": "markdown",
   "metadata": {
    "collapsed": true,
    "deletable": true,
    "editable": true
   },
   "source": [
    "# Image Classification\n",
    "In this project, you'll classify images from the [CIFAR-10 dataset](https://www.cs.toronto.edu/~kriz/cifar.html).  The dataset consists of airplanes, dogs, cats, and other objects. You'll preprocess the images, then train a convolutional neural network on all the samples. The images need to be normalized and the labels need to be one-hot encoded.  You'll get to apply what you learned and build a convolutional, max pooling, dropout, and fully connected layers.  At the end, you'll get to see your neural network's predictions on the sample images.\n",
    "## Get the Data\n",
    "Run the following cell to download the [CIFAR-10 dataset for python](https://www.cs.toronto.edu/~kriz/cifar-10-python.tar.gz)."
   ]
  },
  {
   "cell_type": "code",
   "execution_count": 2,
   "metadata": {
    "collapsed": false,
    "deletable": true,
    "editable": true
   },
   "outputs": [
    {
     "name": "stdout",
     "output_type": "stream",
     "text": [
      "All files found!\n"
     ]
    }
   ],
   "source": [
    "\"\"\"\n",
    "DON'T MODIFY ANYTHING IN THIS CELL THAT IS BELOW THIS LINE\n",
    "\"\"\"\n",
    "from urllib.request import urlretrieve\n",
    "from os.path import isfile, isdir\n",
    "from tqdm import tqdm\n",
    "import problem_unittests as tests\n",
    "import tarfile\n",
    "\n",
    "cifar10_dataset_folder_path = 'cifar-10-batches-py'\n",
    "\n",
    "# Use Floyd's cifar-10 dataset if present\n",
    "floyd_cifar10_location = '/input/cifar-10/python.tar.gz'\n",
    "if isfile(floyd_cifar10_location):\n",
    "    tar_gz_path = floyd_cifar10_location\n",
    "else:\n",
    "    tar_gz_path = 'cifar-10-python.tar.gz'\n",
    "\n",
    "class DLProgress(tqdm):\n",
    "    last_block = 0\n",
    "\n",
    "    def hook(self, block_num=1, block_size=1, total_size=None):\n",
    "        self.total = total_size\n",
    "        self.update((block_num - self.last_block) * block_size)\n",
    "        self.last_block = block_num\n",
    "\n",
    "if not isfile(tar_gz_path):\n",
    "    with DLProgress(unit='B', unit_scale=True, miniters=1, desc='CIFAR-10 Dataset') as pbar:\n",
    "        urlretrieve(\n",
    "            'https://www.cs.toronto.edu/~kriz/cifar-10-python.tar.gz',\n",
    "            tar_gz_path,\n",
    "            pbar.hook)\n",
    "\n",
    "if not isdir(cifar10_dataset_folder_path):\n",
    "    with tarfile.open(tar_gz_path) as tar:\n",
    "        tar.extractall()\n",
    "        tar.close()\n",
    "\n",
    "\n",
    "tests.test_folder_path(cifar10_dataset_folder_path)"
   ]
  },
  {
   "cell_type": "markdown",
   "metadata": {
    "deletable": true,
    "editable": true
   },
   "source": [
    "## Explore the Data\n",
    "The dataset is broken into batches to prevent your machine from running out of memory.  The CIFAR-10 dataset consists of 5 batches, named `data_batch_1`, `data_batch_2`, etc.. Each batch contains the labels and images that are one of the following:\n",
    "* airplane\n",
    "* automobile\n",
    "* bird\n",
    "* cat\n",
    "* deer\n",
    "* dog\n",
    "* frog\n",
    "* horse\n",
    "* ship\n",
    "* truck\n",
    "\n",
    "Understanding a dataset is part of making predictions on the data.  Play around with the code cell below by changing the `batch_id` and `sample_id`. The `batch_id` is the id for a batch (1-5). The `sample_id` is the id for a image and label pair in the batch.\n",
    "\n",
    "Ask yourself \"What are all possible labels?\", \"What is the range of values for the image data?\", \"Are the labels in order or random?\".  Answers to questions like these will help you preprocess the data and end up with better predictions."
   ]
  },
  {
   "cell_type": "code",
   "execution_count": 5,
   "metadata": {
    "collapsed": false,
    "deletable": true,
    "editable": true
   },
   "outputs": [
    {
     "name": "stdout",
     "output_type": "stream",
     "text": [
      "\n",
      "Stats of batch 2:\n",
      "Samples: 10000\n",
      "Label Counts: {0: 984, 1: 1007, 2: 1010, 3: 995, 4: 1010, 5: 988, 6: 1008, 7: 1026, 8: 987, 9: 985}\n",
      "First 20 Labels: [1, 6, 6, 8, 8, 3, 4, 6, 0, 6, 0, 3, 6, 6, 5, 4, 8, 3, 2, 6]\n",
      "\n",
      "Example of Image 15:\n",
      "Image - Min Value: 1 Max Value: 225\n",
      "Image - Shape: (32, 32, 3)\n",
      "Label - Label Id: 4 Name: deer\n"
     ]
    },
    {
     "data": {
      "image/png": "[encoded data removed]",
      "text/plain": [
       "<matplotlib.figure.Figure at 0x7efcf772a198>"
      ]
     },
     "metadata": {
      "image/png": {
       "height": 250,
       "width": 253
      }
     },
     "output_type": "display_data"
    }
   ],
   "source": [
    "%matplotlib inline\n",
    "%config InlineBackend.figure_format = 'retina'\n",
    "\n",
    "import helper\n",
    "import numpy as np\n",
    "\n",
    "# Explore the dataset\n",
    "batch_id = 2\n",
    "sample_id = 15\n",
    "helper.display_stats(cifar10_dataset_folder_path, batch_id, sample_id)"
   ]
  },
  {
   "cell_type": "markdown",
   "metadata": {
    "deletable": true,
    "editable": true
   },
   "source": [
    "## Implement Preprocess Functions\n",
    "### Normalize\n",
    "In the cell below, implement the `normalize` function to take in image data, `x`, and return it as a normalized Numpy array. The values should be in the range of 0 to 1, inclusive.  The return object should be the same shape as `x`."
   ]
  },
  {
   "cell_type": "code",
   "execution_count": 6,
   "metadata": {
    "collapsed": false,
    "deletable": true,
    "editable": true
   },
   "outputs": [
    {
     "name": "stdout",
     "output_type": "stream",
     "text": [
      "Tests Passed\n"
     ]
    }
   ],
   "source": [
    "def normalize(x):\n",
    "    \"\"\"\n",
    "    Normalize a list of sample image data in the range of 0 to 1\n",
    "    : x: List of image data.  The image shape is (32, 32, 3)\n",
    "    : return: Numpy array of normalize data\n",
    "    \"\"\"\n",
    "    # TODO: Implement Function\n",
    "    result = [i/255. for i in x]\n",
    "    return np.asarray(result)\n",
    "    \n",
    "\n",
    "\n",
    "\"\"\"\n",
    "DON'T MODIFY ANYTHING IN THIS CELL THAT IS BELOW THIS LINE\n",
    "\"\"\"\n",
    "tests.test_normalize(normalize)"
   ]
  },
  {
   "cell_type": "markdown",
   "metadata": {
    "deletable": true,
    "editable": true
   },
   "source": [
    "### One-hot encode\n",
    "Just like the previous code cell, you'll be implementing a function for preprocessing.  This time, you'll implement the `one_hot_encode` function. The input, `x`, are a list of labels.  Implement the function to return the list of labels as One-Hot encoded Numpy array.  The possible values for labels are 0 to 9. The one-hot encoding function should return the same encoding for each value between each call to `one_hot_encode`.  Make sure to save the map of encodings outside the function.\n",
    "\n",
    "Hint: Don't reinvent the wheel."
   ]
  },
  {
   "cell_type": "code",
   "execution_count": 7,
   "metadata": {
    "collapsed": false,
    "deletable": true,
    "editable": true
   },
   "outputs": [
    {
     "name": "stdout",
     "output_type": "stream",
     "text": [
      "Tests Passed\n"
     ]
    }
   ],
   "source": [
    "def one_hot_encode(x):\n",
    "    \"\"\"\n",
    "    One hot encode a list of sample labels. Return a one-hot encoded vector for each label.\n",
    "    : x: List of sample Labels\n",
    "    : return: Numpy array of one-hot encoded labels\n",
    "    \"\"\"\n",
    "    # TODO: Implement Function\n",
    "    mat = np.zeros((len(x), 10))\n",
    "    for i in range(len(x)):\n",
    "        mat[i, x[i]] = 1\n",
    "    return mat\n",
    "\n",
    "\n",
    "\"\"\"\n",
    "DON'T MODIFY ANYTHING IN THIS CELL THAT IS BELOW THIS LINE\n",
    "\"\"\"\n",
    "tests.test_one_hot_encode(one_hot_encode)"
   ]
  },
  {
   "cell_type": "markdown",
   "metadata": {
    "deletable": true,
    "editable": true
   },
   "source": [
    "### Randomize Data\n",
    "As you saw from exploring the data above, the order of the samples are randomized.  It doesn't hurt to randomize it again, but you don't need to for this dataset."
   ]
  },
  {
   "cell_type": "markdown",
   "metadata": {
    "deletable": true,
    "editable": true
   },
   "source": [
    "## Preprocess all the data and save it\n",
    "Running the code cell below will preprocess all the CIFAR-10 data and save it to file. The code below also uses 10% of the training data for validation."
   ]
  },
  {
   "cell_type": "code",
   "execution_count": 8,
   "metadata": {
    "collapsed": false,
    "deletable": true,
    "editable": true
   },
   "outputs": [],
   "source": [
    "\"\"\"\n",
    "DON'T MODIFY ANYTHING IN THIS CELL\n",
    "\"\"\"\n",
    "# Preprocess Training, Validation, and Testing Data\n",
    "helper.preprocess_and_save_data(cifar10_dataset_folder_path, normalize, one_hot_encode)"
   ]
  },
  {
   "cell_type": "markdown",
   "metadata": {
    "deletable": true,
    "editable": true
   },
   "source": [
    "# Check Point\n",
    "This is your first checkpoint.  If you ever decide to come back to this notebook or have to restart the notebook, you can start from here.  The preprocessed data has been saved to disk."
   ]
  },
  {
   "cell_type": "code",
   "execution_count": 9,
   "metadata": {
    "collapsed": true,
    "deletable": true,
    "editable": true
   },
   "outputs": [],
   "source": [
    "\"\"\"\n",
    "DON'T MODIFY ANYTHING IN THIS CELL\n",
    "\"\"\"\n",
    "import pickle\n",
    "import problem_unittests as tests\n",
    "import helper\n",
    "\n",
    "# Load the Preprocessed Validation data\n",
    "valid_features, valid_labels = pickle.load(open('preprocess_validation.p', mode='rb'))"
   ]
  },
  {
   "cell_type": "markdown",
   "metadata": {
    "deletable": true,
    "editable": true
   },
   "source": [
    "## Build the network\n",
    "For the neural network, you'll build each layer into a function.  Most of the code you've seen has been outside of functions. To test your code more thoroughly, we require that you put each layer in a function.  This allows us to give you better feedback and test for simple mistakes using our unittests before you submit your project.\n",
    "\n",
    ">**Note:** If you're finding it hard to dedicate enough time for this course each week, we've provided a small shortcut to this part of the project. In the next couple of problems, you'll have the option to use classes from the [TensorFlow Layers](https://www.tensorflow.org/api_docs/python/tf/layers) or [TensorFlow Layers (contrib)](https://www.tensorflow.org/api_guides/python/contrib.layers) packages to build each layer, except the layers you build in the \"Convolutional and Max Pooling Layer\" section.  TF Layers is similar to Keras's and TFLearn's abstraction to layers, so it's easy to pickup.\n",
    "\n",
    ">However, if you would like to get the most out of this course, try to solve all the problems _without_ using anything from the TF Layers packages. You **can** still use classes from other packages that happen to have the same name as ones you find in TF Layers! For example, instead of using the TF Layers version of the `conv2d` class, [tf.layers.conv2d](https://www.tensorflow.org/api_docs/python/tf/layers/conv2d), you would want to use the TF Neural Network version of `conv2d`, [tf.nn.conv2d](https://www.tensorflow.org/api_docs/python/tf/nn/conv2d). \n",
    "\n",
    "Let's begin!\n",
    "\n",
    "### Input\n",
    "The neural network needs to read the image data, one-hot encoded labels, and dropout keep probability. Implement the following functions\n",
    "* Implement `neural_net_image_input`\n",
    " * Return a [TF Placeholder](https://www.tensorflow.org/api_docs/python/tf/placeholder)\n",
    " * Set the shape using `image_shape` with batch size set to `None`.\n",
    " * Name the TensorFlow placeholder \"x\" using the TensorFlow `name` parameter in the [TF Placeholder](https://www.tensorflow.org/api_docs/python/tf/placeholder).\n",
    "* Implement `neural_net_label_input`\n",
    " * Return a [TF Placeholder](https://www.tensorflow.org/api_docs/python/tf/placeholder)\n",
    " * Set the shape using `n_classes` with batch size set to `None`.\n",
    " * Name the TensorFlow placeholder \"y\" using the TensorFlow `name` parameter in the [TF Placeholder](https://www.tensorflow.org/api_docs/python/tf/placeholder).\n",
    "* Implement `neural_net_keep_prob_input`\n",
    " * Return a [TF Placeholder](https://www.tensorflow.org/api_docs/python/tf/placeholder) for dropout keep probability.\n",
    " * Name the TensorFlow placeholder \"keep_prob\" using the TensorFlow `name` parameter in the [TF Placeholder](https://www.tensorflow.org/api_docs/python/tf/placeholder).\n",
    "\n",
    "These names will be used at the end of the project to load your saved model.\n",
    "\n",
    "Note: `None` for shapes in TensorFlow allow for a dynamic size."
   ]
  },
  {
   "cell_type": "code",
   "execution_count": 10,
   "metadata": {
    "collapsed": false,
    "deletable": true,
    "editable": true
   },
   "outputs": [
    {
     "name": "stdout",
     "output_type": "stream",
     "text": [
      "Image Input Tests Passed.\n",
      "Label Input Tests Passed.\n",
      "Keep Prob Tests Passed.\n"
     ]
    }
   ],
   "source": [
    "import tensorflow as tf\n",
    "\n",
    "def neural_net_image_input(image_shape):\n",
    "    \"\"\"\n",
    "    Return a Tensor for a batch of image input\n",
    "    : image_shape: Shape of the images\n",
    "    : return: Tensor for image input.\n",
    "    \"\"\"\n",
    "    # TODO: Implement Function\n",
    "    image_shape = [None] + list(image_shape)\n",
    "    return tf.placeholder(tf.float32, shape = image_shape, name = 'x')\n",
    "\n",
    "\n",
    "def neural_net_label_input(n_classes):\n",
    "    \"\"\"\n",
    "    Return a Tensor for a batch of label input\n",
    "    : n_classes: Number of classes\n",
    "    : return: Tensor for label input.\n",
    "    \"\"\"\n",
    "    # TODO: Implement Function\n",
    "    return tf.placeholder(tf.float32, shape = [None, n_classes], name = 'y')\n",
    "\n",
    "\n",
    "def neural_net_keep_prob_input():\n",
    "    \"\"\"\n",
    "    Return a Tensor for keep probability\n",
    "    : return: Tensor for keep probability.\n",
    "    \"\"\"\n",
    "    # TODO: Implement Function\n",
    "    return tf.placeholder(tf.float32, name = 'keep_prob')\n",
    "\n",
    "\n",
    "\"\"\"\n",
    "DON'T MODIFY ANYTHING IN THIS CELL THAT IS BELOW THIS LINE\n",
    "\"\"\"\n",
    "tf.reset_default_graph()\n",
    "tests.test_nn_image_inputs(neural_net_image_input)\n",
    "tests.test_nn_label_inputs(neural_net_label_input)\n",
    "tests.test_nn_keep_prob_inputs(neural_net_keep_prob_input)"
   ]
  },
  {
   "cell_type": "markdown",
   "metadata": {
    "deletable": true,
    "editable": true
   },
   "source": [
    "### Convolution and Max Pooling Layer\n",
    "Convolution layers have a lot of success with images. For this code cell, you should implement the function `conv2d_maxpool` to apply convolution then max pooling:\n",
    "* Create the weight and bias using `conv_ksize`, `conv_num_outputs` and the shape of `x_tensor`.\n",
    "* Apply a convolution to `x_tensor` using weight and `conv_strides`.\n",
    " * We recommend you use same padding, but you're welcome to use any padding.\n",
    "* Add bias\n",
    "* Add a nonlinear activation to the convolution.\n",
    "* Apply Max Pooling using `pool_ksize` and `pool_strides`.\n",
    " * We recommend you use same padding, but you're welcome to use any padding.\n",
    "\n",
    "**Note:** You **can't** use [TensorFlow Layers](https://www.tensorflow.org/api_docs/python/tf/layers) or [TensorFlow Layers (contrib)](https://www.tensorflow.org/api_guides/python/contrib.layers) for **this** layer, but you can still use TensorFlow's [Neural Network](https://www.tensorflow.org/api_docs/python/tf/nn) package. You may still use the shortcut option for all the **other** layers."
   ]
  },
  {
   "cell_type": "code",
   "execution_count": 54,
   "metadata": {
    "collapsed": false,
    "deletable": true,
    "editable": true
   },
   "outputs": [
    {
     "name": "stdout",
     "output_type": "stream",
     "text": [
      "Tests Passed\n"
     ]
    }
   ],
   "source": [
    "def conv2d_maxpool(x_tensor, conv_num_outputs, conv_ksize, conv_strides, pool_ksize, pool_strides):\n",
    "    \"\"\"\n",
    "    Apply convolution then max pooling to x_tensor\n",
    "    :param x_tensor: TensorFlow Tensor\n",
    "    :param conv_num_outputs: Number of outputs for the convolutional layer\n",
    "    :param conv_ksize: kernal size 2-D Tuple for the convolutional layer\n",
    "    :param conv_strides: Stride 2-D Tuple for convolution\n",
    "    :param pool_ksize: kernal size 2-D Tuple for pool\n",
    "    :param pool_strides: Stride 2-D Tuple for pool\n",
    "    : return: A tensor that represents convolution and max pooling of x_tensor\n",
    "    \"\"\"\n",
    "    # TODO: Implement Function\n",
    "    weight_shape = list(conv_ksize) + [x_tensor.shape.as_list()[-1]] + [conv_num_outputs]\n",
    "    weight = tf.Variable(tf.truncated_normal(weight_shape, stddev=0.1))\n",
    "    bias = tf.Variable(tf.zeros(conv_num_outputs))\n",
    "    hidden = tf.nn.conv2d(x_tensor, weight, strides=(1,) + conv_strides +(1,), padding=\"SAME\") + bias\n",
    "    hidden = tf.nn.relu(hidden)\n",
    "    output = tf.nn.max_pool(hidden, ksize=(1,) + pool_ksize+(1,), strides=(1,) + pool_strides+(1,), padding=\"SAME\")\n",
    "    return  output\n",
    "\n",
    "\n",
    "\"\"\"\n",
    "DON'T MODIFY ANYTHING IN THIS CELL THAT IS BELOW THIS LINE\n",
    "\"\"\"\n",
    "tests.test_con_pool(conv2d_maxpool)"
   ]
  },
  {
   "cell_type": "markdown",
   "metadata": {
    "deletable": true,
    "editable": true
   },
   "source": [
    "### Flatten Layer\n",
    "Implement the `flatten` function to change the dimension of `x_tensor` from a 4-D tensor to a 2-D tensor.  The output should be the shape (*Batch Size*, *Flattened Image Size*). Shortcut option: you can use classes from the [TensorFlow Layers](https://www.tensorflow.org/api_docs/python/tf/layers) or [TensorFlow Layers (contrib)](https://www.tensorflow.org/api_guides/python/contrib.layers) packages for this layer. For more of a challenge, only use other TensorFlow packages."
   ]
  },
  {
   "cell_type": "code",
   "execution_count": 12,
   "metadata": {
    "collapsed": false,
    "deletable": true,
    "editable": true
   },
   "outputs": [
    {
     "name": "stdout",
     "output_type": "stream",
     "text": [
      "Tests Passed\n"
     ]
    }
   ],
   "source": [
    "def flatten(x_tensor):\n",
    "    \"\"\"\n",
    "    Flatten x_tensor to (Batch Size, Flattened Image Size)\n",
    "    : x_tensor: A tensor of size (Batch Size, ...), where ... are the image dimensions.\n",
    "    : return: A tensor of size (Batch Size, Flattened Image Size).\n",
    "    \"\"\"\n",
    "    # TODO: Implement Function\n",
    "    return tf.contrib.layers.flatten(x_tensor)\n",
    "\n",
    "\n",
    "\"\"\"\n",
    "DON'T MODIFY ANYTHING IN THIS CELL THAT IS BELOW THIS LINE\n",
    "\"\"\"\n",
    "tests.test_flatten(flatten)"
   ]
  },
  {
   "cell_type": "markdown",
   "metadata": {
    "deletable": true,
    "editable": true
   },
   "source": [
    "### Fully-Connected Layer\n",
    "Implement the `fully_conn` function to apply a fully connected layer to `x_tensor` with the shape (*Batch Size*, *num_outputs*). Shortcut option: you can use classes from the [TensorFlow Layers](https://www.tensorflow.org/api_docs/python/tf/layers) or [TensorFlow Layers (contrib)](https://www.tensorflow.org/api_guides/python/contrib.layers) packages for this layer. For more of a challenge, only use other TensorFlow packages."
   ]
  },
  {
   "cell_type": "code",
   "execution_count": 53,
   "metadata": {
    "collapsed": false,
    "deletable": true,
    "editable": true
   },
   "outputs": [
    {
     "name": "stdout",
     "output_type": "stream",
     "text": [
      "Tests Passed\n"
     ]
    }
   ],
   "source": [
    "def fully_conn(x_tensor, num_outputs):\n",
    "    \"\"\"\n",
    "    Apply a fully connected layer to x_tensor using weight and bias\n",
    "    : x_tensor: A 2-D tensor where the first dimension is batch size.\n",
    "    : num_outputs: The number of output that the new tensor should be.\n",
    "    : return: A 2-D tensor where the second dimension is num_outputs.\n",
    "    \"\"\"\n",
    "    # TODO: Implement Function\n",
    "    weight = tf.Variable(tf.truncated_normal([x_tensor.shape.as_list()[1], num_outputs],stddev=0.1))\n",
    "    bias = tf.Variable(tf.zeros(num_outputs))\n",
    "    return tf.nn.relu(tf.matmul(x_tensor, weight) + bias)\n",
    "\n",
    "\n",
    "\"\"\"\n",
    "DON'T MODIFY ANYTHING IN THIS CELL THAT IS BELOW THIS LINE\n",
    "\"\"\"\n",
    "tests.test_fully_conn(fully_conn)"
   ]
  },
  {
   "cell_type": "markdown",
   "metadata": {
    "deletable": true,
    "editable": true
   },
   "source": [
    "### Output Layer\n",
    "Implement the `output` function to apply a fully connected layer to `x_tensor` with the shape (*Batch Size*, *num_outputs*). Shortcut option: you can use classes from the [TensorFlow Layers](https://www.tensorflow.org/api_docs/python/tf/layers) or [TensorFlow Layers (contrib)](https://www.tensorflow.org/api_guides/python/contrib.layers) packages for this layer. For more of a challenge, only use other TensorFlow packages.\n",
    "\n",
    "**Note:** Activation, softmax, or cross entropy should **not** be applied to this."
   ]
  },
  {
   "cell_type": "code",
   "execution_count": 44,
   "metadata": {
    "collapsed": false,
    "deletable": true,
    "editable": true
   },
   "outputs": [
    {
     "name": "stdout",
     "output_type": "stream",
     "text": [
      "Tests Passed\n"
     ]
    }
   ],
   "source": [
    "def output(x_tensor, num_outputs):\n",
    "    \"\"\"\n",
    "    Apply a output layer to x_tensor using weight and bias\n",
    "    : x_tensor: A 2-D tensor where the first dimension is batch size.\n",
    "    : num_outputs: The number of output that the new tensor should be.\n",
    "    : return: A 2-D tensor where the second dimension is num_outputs.\n",
    "    \"\"\"\n",
    "    # TODO: Implement Function\n",
    "    weight = tf.Variable(tf.truncated_normal([x_tensor.shape.as_list()[1], num_outputs]))\n",
    "    bias = tf.Variable(tf.zeros(num_outputs))\n",
    "    return tf.matmul(x_tensor, weight) + bias\n",
    "\n",
    "\n",
    "\"\"\"\n",
    "DON'T MODIFY ANYTHING IN THIS CELL THAT IS BELOW THIS LINE\n",
    "\"\"\"\n",
    "tests.test_output(output)"
   ]
  },
  {
   "cell_type": "markdown",
   "metadata": {
    "deletable": true,
    "editable": true
   },
   "source": [
    "### Create Convolutional Model\n",
    "Implement the function `conv_net` to create a convolutional neural network model. The function takes in a batch of images, `x`, and outputs logits.  Use the layers you created above to create this model:\n",
    "\n",
    "* Apply 1, 2, or 3 Convolution and Max Pool layers\n",
    "* Apply a Flatten Layer\n",
    "* Apply 1, 2, or 3 Fully Connected Layers\n",
    "* Apply an Output Layer\n",
    "* Return the output\n",
    "* Apply [TensorFlow's Dropout](https://www.tensorflow.org/api_docs/python/tf/nn/dropout) to one or more layers in the model using `keep_prob`. "
   ]
  },
  {
   "cell_type": "code",
   "execution_count": 62,
   "metadata": {
    "collapsed": false,
    "deletable": true,
    "editable": true
   },
   "outputs": [
    {
     "name": "stdout",
     "output_type": "stream",
     "text": [
      "Neural Network Built!\n"
     ]
    }
   ],
   "source": [
    "def conv_net(x, keep_prob):\n",
    "    \"\"\"\n",
    "    Create a convolutional neural network model\n",
    "    : x: Placeholder tensor that holds image data.\n",
    "    : keep_prob: Placeholder tensor that hold dropout keep probability.\n",
    "    : return: Tensor that represents logits\n",
    "    \"\"\"\n",
    "    # TODO: Apply 1, 2, or 3 Convolution and Max Pool layers\n",
    "    #    Play around with different number of outputs, kernel size and stride\n",
    "    # Function Definition from Above:\n",
    "    #    conv2d_maxpool(x_tensor, conv_num_outputs, conv_ksize, conv_strides, pool_ksize, pool_strides)\n",
    "    hidden1 = conv2d_maxpool(x, 32, (3,3), (1,1), (2,2), (2,2))\n",
    "    hidden2 = conv2d_maxpool(hidden1, 62, (3,3), (1,1), (2,2), (2,2))\n",
    "    hidden3 = conv2d_maxpool(hidden2, 128, (3,3), (1,1), (2,2), (2,2))\n",
    "    # TODO: Apply a Flatten Layer\n",
    "    # Function Definition from Above:\n",
    "    #   flatten(x_tensor)\n",
    "    flatten_layer = flatten(hidden3)\n",
    "\n",
    "    # TODO: Apply 1, 2, or 3 Fully Connected Layers\n",
    "    #    Play around with different number of outputs\n",
    "    # Function Definition from Above:\n",
    "    #   fully_conn(x_tensor, num_outputs)\n",
    "    fully1 = fully_conn(flatten_layer, 512)\n",
    "    fully1_dropout = tf.nn.dropout(fully1, keep_prob)\n",
    "    fully2 = fully_conn(fully1_dropout, 128)\n",
    "    fully_dropout = tf.nn.dropout(fully2, keep_prob)\n",
    "    \n",
    "    \n",
    "    # TODO: Apply an Output Layer\n",
    "    #    Set this to the number of classes\n",
    "    # Function Definition from Above:\n",
    "    #   output(x_tensor, num_outputs)\n",
    "    result = output(fully_dropout, 10)\n",
    "    \n",
    "    # TODO: return output\n",
    "    return result\n",
    "\n",
    "\n",
    "\"\"\"\n",
    "DON'T MODIFY ANYTHING IN THIS CELL THAT IS BELOW THIS LINE\n",
    "\"\"\"\n",
    "\n",
    "##############################\n",
    "## Build the Neural Network ##\n",
    "##############################\n",
    "\n",
    "# Remove previous weights, bias, inputs, etc..\n",
    "tf.reset_default_graph()\n",
    "\n",
    "# Inputs\n",
    "x = neural_net_image_input((32, 32, 3))\n",
    "y = neural_net_label_input(10)\n",
    "keep_prob = neural_net_keep_prob_input()\n",
    "\n",
    "# Model\n",
    "logits = conv_net(x, keep_prob)\n",
    "\n",
    "# Name logits Tensor, so that is can be loaded from disk after training\n",
    "logits = tf.identity(logits, name='logits')\n",
    "\n",
    "# Loss and Optimizer\n",
    "cost = tf.reduce_mean(tf.nn.softmax_cross_entropy_with_logits(logits=logits, labels=y))\n",
    "optimizer = tf.train.AdamOptimizer(learning_rate=0.001).minimize(cost)\n",
    "\n",
    "# Accuracy\n",
    "correct_pred = tf.equal(tf.argmax(logits, 1), tf.argmax(y, 1))\n",
    "accuracy = tf.reduce_mean(tf.cast(correct_pred, tf.float32), name='accuracy')\n",
    "\n",
    "tests.test_conv_net(conv_net)"
   ]
  },
  {
   "cell_type": "markdown",
   "metadata": {
    "deletable": true,
    "editable": true
   },
   "source": [
    "## Train the Neural Network\n",
    "### Single Optimization\n",
    "Implement the function `train_neural_network` to do a single optimization.  The optimization should use `optimizer` to optimize in `session` with a `feed_dict` of the following:\n",
    "* `x` for image input\n",
    "* `y` for labels\n",
    "* `keep_prob` for keep probability for dropout\n",
    "\n",
    "This function will be called for each batch, so `tf.global_variables_initializer()` has already been called.\n",
    "\n",
    "Note: Nothing needs to be returned. This function is only optimizing the neural network."
   ]
  },
  {
   "cell_type": "code",
   "execution_count": 46,
   "metadata": {
    "collapsed": false,
    "deletable": true,
    "editable": true
   },
   "outputs": [
    {
     "name": "stdout",
     "output_type": "stream",
     "text": [
      "Tests Passed\n"
     ]
    }
   ],
   "source": [
    "def train_neural_network(session, optimizer, keep_probability, feature_batch, label_batch):\n",
    "    \"\"\"\n",
    "    Optimize the session on a batch of images and labels\n",
    "    : session: Current TensorFlow session\n",
    "    : optimizer: TensorFlow optimizer function\n",
    "    : keep_probability: keep probability\n",
    "    : feature_batch: Batch of Numpy image data\n",
    "    : label_batch: Batch of Numpy label data\n",
    "    \"\"\"\n",
    "    # TODO: Implement Function\n",
    "    session.run(optimizer, feed_dict = {x: feature_batch, y: label_batch, keep_prob: keep_probability})\n",
    "    pass\n",
    "\n",
    "\n",
    "\"\"\"\n",
    "DON'T MODIFY ANYTHING IN THIS CELL THAT IS BELOW THIS LINE\n",
    "\"\"\"\n",
    "tests.test_train_nn(train_neural_network)"
   ]
  },
  {
   "cell_type": "markdown",
   "metadata": {
    "deletable": true,
    "editable": true
   },
   "source": [
    "### Show Stats\n",
    "Implement the function `print_stats` to print loss and validation accuracy.  Use the global variables `valid_features` and `valid_labels` to calculate validation accuracy.  Use a keep probability of `1.0` to calculate the loss and validation accuracy."
   ]
  },
  {
   "cell_type": "code",
   "execution_count": 47,
   "metadata": {
    "collapsed": false,
    "deletable": true,
    "editable": true
   },
   "outputs": [],
   "source": [
    "def print_stats(session, feature_batch, label_batch, cost, accuracy):\n",
    "    \"\"\"\n",
    "    Print information about loss and validation accuracy\n",
    "    : session: Current TensorFlow session\n",
    "    : feature_batch: Batch of Numpy image data\n",
    "    : label_batch: Batch of Numpy label data\n",
    "    : cost: TensorFlow cost function\n",
    "    : accuracy: TensorFlow accuracy function\n",
    "    \"\"\"\n",
    "    # TODO: Implement Function\n",
    "    c_val, acc_val = session.run((cost, accuracy), feed_dict = {x:valid_features, y:valid_labels, keep_prob:1.})\n",
    "    c_train, acc_train = session.run((cost, accuracy), feed_dict = {x:feature_batch, y:label_batch, keep_prob:1.})\n",
    "    print(\"\\ntraining cost is %.4f, training accuracy is %.4f\" %(c_train, acc_train)) \n",
    "    print(\"validation cost is %.4f, validation accuracy is %.4f\" %(c_val, acc_val)) "
   ]
  },
  {
   "cell_type": "markdown",
   "metadata": {
    "deletable": true,
    "editable": true
   },
   "source": [
    "### Hyperparameters\n",
    "Tune the following parameters:\n",
    "* Set `epochs` to the number of iterations until the network stops learning or start overfitting\n",
    "* Set `batch_size` to the highest number that your machine has memory for.  Most people set them to common sizes of memory:\n",
    " * 64\n",
    " * 128\n",
    " * 256\n",
    " * ...\n",
    "* Set `keep_probability` to the probability of keeping a node using dropout"
   ]
  },
  {
   "cell_type": "code",
   "execution_count": 63,
   "metadata": {
    "collapsed": true,
    "deletable": true,
    "editable": true
   },
   "outputs": [],
   "source": [
    "# TODO: Tune Parameters\n",
    "epochs = 20\n",
    "batch_size = 128\n",
    "keep_probability = 0.5"
   ]
  },
  {
   "cell_type": "markdown",
   "metadata": {
    "deletable": true,
    "editable": true
   },
   "source": [
    "### Train on a Single CIFAR-10 Batch\n",
    "Instead of training the neural network on all the CIFAR-10 batches of data, let's use a single batch. This should save time while you iterate on the model to get a better accuracy.  Once the final validation accuracy is 50% or greater, run the model on all the data in the next section."
   ]
  },
  {
   "cell_type": "code",
   "execution_count": 64,
   "metadata": {
    "collapsed": false,
    "deletable": true,
    "editable": true,
    "scrolled": true
   },
   "outputs": [
    {
     "name": "stdout",
     "output_type": "stream",
     "text": [
      "Checking the Training on a Single Batch...\n",
      "Epoch  1, CIFAR-10 Batch 1:  \n",
      "training cost is 2.2382, training accuracy is 0.1500\n",
      "validation cost is 2.2164, validation accuracy is 0.2134\n",
      "Epoch  2, CIFAR-10 Batch 1:  \n",
      "training cost is 2.0839, training accuracy is 0.4250\n",
      "validation cost is 2.0628, validation accuracy is 0.2758\n",
      "Epoch  3, CIFAR-10 Batch 1:  \n",
      "training cost is 1.9297, training accuracy is 0.4250\n",
      "validation cost is 1.8639, validation accuracy is 0.3642\n",
      "Epoch  4, CIFAR-10 Batch 1:  \n",
      "training cost is 1.7786, training accuracy is 0.5750\n",
      "validation cost is 1.6934, validation accuracy is 0.4104\n",
      "Epoch  5, CIFAR-10 Batch 1:  \n",
      "training cost is 1.5701, training accuracy is 0.5500\n",
      "validation cost is 1.6056, validation accuracy is 0.4284\n",
      "Epoch  6, CIFAR-10 Batch 1:  \n",
      "training cost is 1.4310, training accuracy is 0.4750\n",
      "validation cost is 1.5430, validation accuracy is 0.4632\n",
      "Epoch  7, CIFAR-10 Batch 1:  \n",
      "training cost is 1.3247, training accuracy is 0.6000\n",
      "validation cost is 1.4488, validation accuracy is 0.4810\n",
      "Epoch  8, CIFAR-10 Batch 1:  \n",
      "training cost is 1.2287, training accuracy is 0.6000\n",
      "validation cost is 1.4122, validation accuracy is 0.5024\n",
      "Epoch  9, CIFAR-10 Batch 1:  \n",
      "training cost is 1.0755, training accuracy is 0.6750\n",
      "validation cost is 1.3295, validation accuracy is 0.5350\n",
      "Epoch 10, CIFAR-10 Batch 1:  \n",
      "training cost is 1.0272, training accuracy is 0.7250\n",
      "validation cost is 1.3982, validation accuracy is 0.5106\n",
      "Epoch 11, CIFAR-10 Batch 1:  \n",
      "training cost is 0.9329, training accuracy is 0.7250\n",
      "validation cost is 1.2879, validation accuracy is 0.5422\n",
      "Epoch 12, CIFAR-10 Batch 1:  \n",
      "training cost is 0.8126, training accuracy is 0.7500\n",
      "validation cost is 1.2929, validation accuracy is 0.5448\n",
      "Epoch 13, CIFAR-10 Batch 1:  \n",
      "training cost is 0.8212, training accuracy is 0.7500\n",
      "validation cost is 1.2748, validation accuracy is 0.5524\n",
      "Epoch 14, CIFAR-10 Batch 1:  \n",
      "training cost is 0.7312, training accuracy is 0.8000\n",
      "validation cost is 1.3041, validation accuracy is 0.5432\n",
      "Epoch 15, CIFAR-10 Batch 1:  \n",
      "training cost is 0.6382, training accuracy is 0.8000\n",
      "validation cost is 1.2609, validation accuracy is 0.5546\n",
      "Epoch 16, CIFAR-10 Batch 1:  \n",
      "training cost is 0.5872, training accuracy is 0.8250\n",
      "validation cost is 1.2136, validation accuracy is 0.5758\n",
      "Epoch 17, CIFAR-10 Batch 1:  \n",
      "training cost is 0.6056, training accuracy is 0.8000\n",
      "validation cost is 1.1905, validation accuracy is 0.5912\n",
      "Epoch 18, CIFAR-10 Batch 1:  \n",
      "training cost is 0.4886, training accuracy is 0.8250\n",
      "validation cost is 1.2183, validation accuracy is 0.5814\n",
      "Epoch 19, CIFAR-10 Batch 1:  \n",
      "training cost is 0.3848, training accuracy is 0.8500\n",
      "validation cost is 1.1993, validation accuracy is 0.6024\n",
      "Epoch 20, CIFAR-10 Batch 1:  \n",
      "training cost is 0.3754, training accuracy is 0.8500\n",
      "validation cost is 1.2422, validation accuracy is 0.5850\n"
     ]
    }
   ],
   "source": [
    "\"\"\"\n",
    "DON'T MODIFY ANYTHING IN THIS CELL\n",
    "\"\"\"\n",
    "print('Checking the Training on a Single Batch...')\n",
    "with tf.Session() as sess:\n",
    "    # Initializing the variables\n",
    "    sess.run(tf.global_variables_initializer())\n",
    "    \n",
    "    # Training cycle\n",
    "    for epoch in range(epochs):\n",
    "        batch_i = 1\n",
    "        for batch_features, batch_labels in helper.load_preprocess_training_batch(batch_i, batch_size):\n",
    "            train_neural_network(sess, optimizer, keep_probability, batch_features, batch_labels)\n",
    "        print('Epoch {:>2}, CIFAR-10 Batch {}:  '.format(epoch + 1, batch_i), end='')\n",
    "        print_stats(sess, batch_features, batch_labels, cost, accuracy)"
   ]
  },
  {
   "cell_type": "markdown",
   "metadata": {
    "deletable": true,
    "editable": true
   },
   "source": [
    "### Fully Train the Model\n",
    "Now that you got a good accuracy with a single CIFAR-10 batch, try it with all five batches."
   ]
  },
  {
   "cell_type": "code",
   "execution_count": 65,
   "metadata": {
    "collapsed": false,
    "deletable": true,
    "editable": true,
    "scrolled": true
   },
   "outputs": [
    {
     "name": "stdout",
     "output_type": "stream",
     "text": [
      "Training...\n",
      "Epoch  1, CIFAR-10 Batch 1:  \n",
      "training cost is 2.2577, training accuracy is 0.1750\n",
      "validation cost is 2.2078, validation accuracy is 0.2002\n",
      "Epoch  1, CIFAR-10 Batch 2:  \n",
      "training cost is 2.0095, training accuracy is 0.3500\n",
      "validation cost is 1.9786, validation accuracy is 0.2886\n",
      "Epoch  1, CIFAR-10 Batch 3:  \n",
      "training cost is 1.6567, training accuracy is 0.4250\n",
      "validation cost is 1.7607, validation accuracy is 0.3684\n",
      "Epoch  1, CIFAR-10 Batch 4:  \n",
      "training cost is 1.7139, training accuracy is 0.3250\n",
      "validation cost is 1.6742, validation accuracy is 0.4084\n",
      "Epoch  1, CIFAR-10 Batch 5:  \n",
      "training cost is 1.6008, training accuracy is 0.3750\n",
      "validation cost is 1.6197, validation accuracy is 0.4014\n",
      "Epoch  2, CIFAR-10 Batch 1:  \n",
      "training cost is 1.6556, training accuracy is 0.4000\n",
      "validation cost is 1.5309, validation accuracy is 0.4586\n",
      "Epoch  2, CIFAR-10 Batch 2:  \n",
      "training cost is 1.5890, training accuracy is 0.4750\n",
      "validation cost is 1.5146, validation accuracy is 0.4612\n",
      "Epoch  2, CIFAR-10 Batch 3:  \n",
      "training cost is 1.2847, training accuracy is 0.5000\n",
      "validation cost is 1.4577, validation accuracy is 0.4726\n",
      "Epoch  2, CIFAR-10 Batch 4:  \n",
      "training cost is 1.3275, training accuracy is 0.5250\n",
      "validation cost is 1.3794, validation accuracy is 0.4960\n",
      "Epoch  2, CIFAR-10 Batch 5:  \n",
      "training cost is 1.3502, training accuracy is 0.5500\n",
      "validation cost is 1.3748, validation accuracy is 0.5078\n",
      "Epoch  3, CIFAR-10 Batch 1:  \n",
      "training cost is 1.3658, training accuracy is 0.5750\n",
      "validation cost is 1.3317, validation accuracy is 0.5278\n",
      "Epoch  3, CIFAR-10 Batch 2:  \n",
      "training cost is 1.3034, training accuracy is 0.5750\n",
      "validation cost is 1.2963, validation accuracy is 0.5334\n",
      "Epoch  3, CIFAR-10 Batch 3:  \n",
      "training cost is 1.1867, training accuracy is 0.5750\n",
      "validation cost is 1.3191, validation accuracy is 0.5244\n",
      "Epoch  3, CIFAR-10 Batch 4:  \n",
      "training cost is 1.0960, training accuracy is 0.6500\n",
      "validation cost is 1.2480, validation accuracy is 0.5490\n",
      "Epoch  3, CIFAR-10 Batch 5:  \n",
      "training cost is 1.1007, training accuracy is 0.6750\n",
      "validation cost is 1.2150, validation accuracy is 0.5704\n",
      "Epoch  4, CIFAR-10 Batch 1:  \n",
      "training cost is 1.1865, training accuracy is 0.6250\n",
      "validation cost is 1.2273, validation accuracy is 0.5590\n",
      "Epoch  4, CIFAR-10 Batch 2:  \n",
      "training cost is 1.1268, training accuracy is 0.6250\n",
      "validation cost is 1.1738, validation accuracy is 0.5882\n",
      "Epoch  4, CIFAR-10 Batch 3:  \n",
      "training cost is 1.0349, training accuracy is 0.7250\n",
      "validation cost is 1.1766, validation accuracy is 0.5812\n",
      "Epoch  4, CIFAR-10 Batch 4:  \n",
      "training cost is 0.9850, training accuracy is 0.7250\n",
      "validation cost is 1.1368, validation accuracy is 0.5964\n",
      "Epoch  4, CIFAR-10 Batch 5:  \n",
      "training cost is 0.8862, training accuracy is 0.7750\n",
      "validation cost is 1.0931, validation accuracy is 0.6090\n",
      "Epoch  5, CIFAR-10 Batch 1:  \n",
      "training cost is 0.9869, training accuracy is 0.6500\n",
      "validation cost is 1.1132, validation accuracy is 0.6072\n",
      "Epoch  5, CIFAR-10 Batch 2:  \n",
      "training cost is 0.9989, training accuracy is 0.6250\n",
      "validation cost is 1.0522, validation accuracy is 0.6272\n",
      "Epoch  5, CIFAR-10 Batch 3:  \n",
      "training cost is 0.7927, training accuracy is 0.8000\n",
      "validation cost is 1.0823, validation accuracy is 0.6192\n",
      "Epoch  5, CIFAR-10 Batch 4:  \n",
      "training cost is 0.7789, training accuracy is 0.7500\n",
      "validation cost is 1.0538, validation accuracy is 0.6310\n",
      "Epoch  5, CIFAR-10 Batch 5:  \n",
      "training cost is 0.8181, training accuracy is 0.7750\n",
      "validation cost is 1.0433, validation accuracy is 0.6362\n",
      "Epoch  6, CIFAR-10 Batch 1:  \n",
      "training cost is 0.7169, training accuracy is 0.7500\n",
      "validation cost is 1.0106, validation accuracy is 0.6414\n",
      "Epoch  6, CIFAR-10 Batch 2:  \n",
      "training cost is 0.7568, training accuracy is 0.7500\n",
      "validation cost is 0.9827, validation accuracy is 0.6496\n",
      "Epoch  6, CIFAR-10 Batch 3:  \n",
      "training cost is 0.5143, training accuracy is 0.8500\n",
      "validation cost is 0.9641, validation accuracy is 0.6596\n",
      "Epoch  6, CIFAR-10 Batch 4:  \n",
      "training cost is 0.6512, training accuracy is 0.7750\n",
      "validation cost is 0.9807, validation accuracy is 0.6600\n",
      "Epoch  6, CIFAR-10 Batch 5:  \n",
      "training cost is 0.6693, training accuracy is 0.8250\n",
      "validation cost is 1.0123, validation accuracy is 0.6484\n",
      "Epoch  7, CIFAR-10 Batch 1:  \n",
      "training cost is 0.7061, training accuracy is 0.7500\n",
      "validation cost is 0.9627, validation accuracy is 0.6660\n",
      "Epoch  7, CIFAR-10 Batch 2:  \n",
      "training cost is 0.6792, training accuracy is 0.7750\n",
      "validation cost is 0.9507, validation accuracy is 0.6678\n",
      "Epoch  7, CIFAR-10 Batch 3:  \n",
      "training cost is 0.4157, training accuracy is 0.9250\n",
      "validation cost is 0.9341, validation accuracy is 0.6752\n",
      "Epoch  7, CIFAR-10 Batch 4:  \n",
      "training cost is 0.6445, training accuracy is 0.8000\n",
      "validation cost is 0.9734, validation accuracy is 0.6672\n",
      "Epoch  7, CIFAR-10 Batch 5:  \n",
      "training cost is 0.4875, training accuracy is 0.9250\n",
      "validation cost is 0.9213, validation accuracy is 0.6832\n",
      "Epoch  8, CIFAR-10 Batch 1:  \n",
      "training cost is 0.6641, training accuracy is 0.7750\n",
      "validation cost is 0.9799, validation accuracy is 0.6646\n",
      "Epoch  8, CIFAR-10 Batch 2:  \n",
      "training cost is 0.5668, training accuracy is 0.8000\n",
      "validation cost is 0.9627, validation accuracy is 0.6680\n",
      "Epoch  8, CIFAR-10 Batch 3:  \n",
      "training cost is 0.3981, training accuracy is 0.9250\n",
      "validation cost is 0.9131, validation accuracy is 0.6868\n",
      "Epoch  8, CIFAR-10 Batch 4:  \n",
      "training cost is 0.5318, training accuracy is 0.8500\n",
      "validation cost is 0.9221, validation accuracy is 0.6784\n",
      "Epoch  8, CIFAR-10 Batch 5:  \n",
      "training cost is 0.4424, training accuracy is 0.9000\n",
      "validation cost is 0.8819, validation accuracy is 0.6976\n",
      "Epoch  9, CIFAR-10 Batch 1:  \n",
      "training cost is 0.5619, training accuracy is 0.8000\n",
      "validation cost is 0.8959, validation accuracy is 0.6920\n",
      "Epoch  9, CIFAR-10 Batch 2:  \n",
      "training cost is 0.5180, training accuracy is 0.8000\n",
      "validation cost is 0.9687, validation accuracy is 0.6646\n",
      "Epoch  9, CIFAR-10 Batch 3:  \n",
      "training cost is 0.3458, training accuracy is 0.9500\n",
      "validation cost is 0.8916, validation accuracy is 0.6972\n",
      "Epoch  9, CIFAR-10 Batch 4:  \n",
      "training cost is 0.4547, training accuracy is 0.8500\n",
      "validation cost is 0.8817, validation accuracy is 0.6966\n",
      "Epoch  9, CIFAR-10 Batch 5:  \n",
      "training cost is 0.3034, training accuracy is 0.9500\n",
      "validation cost is 0.8774, validation accuracy is 0.7026\n",
      "Epoch 10, CIFAR-10 Batch 1:  \n",
      "training cost is 0.5027, training accuracy is 0.8000\n",
      "validation cost is 0.9141, validation accuracy is 0.6930\n",
      "Epoch 10, CIFAR-10 Batch 2:  \n",
      "training cost is 0.4938, training accuracy is 0.8500\n",
      "validation cost is 0.8952, validation accuracy is 0.6942\n",
      "Epoch 10, CIFAR-10 Batch 3:  \n",
      "training cost is 0.3243, training accuracy is 0.9500\n",
      "validation cost is 0.8792, validation accuracy is 0.6982\n",
      "Epoch 10, CIFAR-10 Batch 4:  \n",
      "training cost is 0.3278, training accuracy is 0.9250\n",
      "validation cost is 0.8598, validation accuracy is 0.7074\n",
      "Epoch 10, CIFAR-10 Batch 5:  \n",
      "training cost is 0.3121, training accuracy is 0.8750\n",
      "validation cost is 0.9353, validation accuracy is 0.6884\n",
      "Epoch 11, CIFAR-10 Batch 1:  \n",
      "training cost is 0.4018, training accuracy is 0.8750\n",
      "validation cost is 0.8579, validation accuracy is 0.7158\n",
      "Epoch 11, CIFAR-10 Batch 2:  \n",
      "training cost is 0.3679, training accuracy is 0.9250\n",
      "validation cost is 0.8648, validation accuracy is 0.7100\n",
      "Epoch 11, CIFAR-10 Batch 3:  \n",
      "training cost is 0.2707, training accuracy is 0.9000\n",
      "validation cost is 0.8533, validation accuracy is 0.7122\n",
      "Epoch 11, CIFAR-10 Batch 4:  \n",
      "training cost is 0.3226, training accuracy is 0.9250\n",
      "validation cost is 0.8867, validation accuracy is 0.7078\n",
      "Epoch 11, CIFAR-10 Batch 5:  \n",
      "training cost is 0.2808, training accuracy is 0.9500\n",
      "validation cost is 0.8623, validation accuracy is 0.7066\n",
      "Epoch 12, CIFAR-10 Batch 1:  \n",
      "training cost is 0.3451, training accuracy is 0.8500\n",
      "validation cost is 0.8453, validation accuracy is 0.7138\n",
      "Epoch 12, CIFAR-10 Batch 2:  \n",
      "training cost is 0.3235, training accuracy is 0.9000\n",
      "validation cost is 0.8772, validation accuracy is 0.7114\n",
      "Epoch 12, CIFAR-10 Batch 3:  \n",
      "training cost is 0.1951, training accuracy is 0.9750\n",
      "validation cost is 0.8451, validation accuracy is 0.7174\n",
      "Epoch 12, CIFAR-10 Batch 4:  \n",
      "training cost is 0.2594, training accuracy is 0.9000\n",
      "validation cost is 0.8556, validation accuracy is 0.7158\n",
      "Epoch 12, CIFAR-10 Batch 5:  \n",
      "training cost is 0.2170, training accuracy is 0.9750\n",
      "validation cost is 0.8854, validation accuracy is 0.7114\n",
      "Epoch 13, CIFAR-10 Batch 1:  \n",
      "training cost is 0.2439, training accuracy is 0.9500\n",
      "validation cost is 0.8653, validation accuracy is 0.7136\n",
      "Epoch 13, CIFAR-10 Batch 2:  \n",
      "training cost is 0.2602, training accuracy is 0.9750\n",
      "validation cost is 0.8916, validation accuracy is 0.7100\n",
      "Epoch 13, CIFAR-10 Batch 3:  \n",
      "training cost is 0.1867, training accuracy is 0.9500\n",
      "validation cost is 0.8600, validation accuracy is 0.7234\n",
      "Epoch 13, CIFAR-10 Batch 4:  \n",
      "training cost is 0.2874, training accuracy is 0.8750\n",
      "validation cost is 0.9024, validation accuracy is 0.6958\n",
      "Epoch 13, CIFAR-10 Batch 5:  \n",
      "training cost is 0.1415, training accuracy is 0.9750\n",
      "validation cost is 0.8593, validation accuracy is 0.7260\n",
      "Epoch 14, CIFAR-10 Batch 1:  \n",
      "training cost is 0.1902, training accuracy is 0.9750\n",
      "validation cost is 0.8854, validation accuracy is 0.7194\n",
      "Epoch 14, CIFAR-10 Batch 2:  \n",
      "training cost is 0.2592, training accuracy is 0.9500\n",
      "validation cost is 0.8976, validation accuracy is 0.7150\n",
      "Epoch 14, CIFAR-10 Batch 3:  \n",
      "training cost is 0.1630, training accuracy is 0.9500\n",
      "validation cost is 0.8394, validation accuracy is 0.7278\n",
      "Epoch 14, CIFAR-10 Batch 4:  \n",
      "training cost is 0.2017, training accuracy is 0.9500\n",
      "validation cost is 0.8568, validation accuracy is 0.7246\n",
      "Epoch 14, CIFAR-10 Batch 5:  \n",
      "training cost is 0.1399, training accuracy is 0.9750\n",
      "validation cost is 0.9251, validation accuracy is 0.7040\n",
      "Epoch 15, CIFAR-10 Batch 1:  \n",
      "training cost is 0.1746, training accuracy is 0.9750\n",
      "validation cost is 0.8966, validation accuracy is 0.7172\n",
      "Epoch 15, CIFAR-10 Batch 2:  \n",
      "training cost is 0.1932, training accuracy is 0.9000\n",
      "validation cost is 0.9230, validation accuracy is 0.7200\n",
      "Epoch 15, CIFAR-10 Batch 3:  \n",
      "training cost is 0.1151, training accuracy is 0.9750\n",
      "validation cost is 0.9149, validation accuracy is 0.7062\n",
      "Epoch 15, CIFAR-10 Batch 4:  \n",
      "training cost is 0.1696, training accuracy is 0.9250\n",
      "validation cost is 0.9007, validation accuracy is 0.7214\n",
      "Epoch 15, CIFAR-10 Batch 5:  \n",
      "training cost is 0.1256, training accuracy is 0.9750\n",
      "validation cost is 0.8892, validation accuracy is 0.7218\n",
      "Epoch 16, CIFAR-10 Batch 1:  \n",
      "training cost is 0.1343, training accuracy is 0.9750\n",
      "validation cost is 0.9019, validation accuracy is 0.7198\n",
      "Epoch 16, CIFAR-10 Batch 2:  \n",
      "training cost is 0.1132, training accuracy is 0.9750\n",
      "validation cost is 0.8773, validation accuracy is 0.7374\n",
      "Epoch 16, CIFAR-10 Batch 3:  \n",
      "training cost is 0.0879, training accuracy is 0.9750\n",
      "validation cost is 0.9089, validation accuracy is 0.7192\n",
      "Epoch 16, CIFAR-10 Batch 4:  \n",
      "training cost is 0.1244, training accuracy is 0.9750\n",
      "validation cost is 0.8929, validation accuracy is 0.7294\n",
      "Epoch 16, CIFAR-10 Batch 5:  \n",
      "training cost is 0.1045, training accuracy is 0.9750\n",
      "validation cost is 0.9065, validation accuracy is 0.7258\n",
      "Epoch 17, CIFAR-10 Batch 1:  \n",
      "training cost is 0.1214, training accuracy is 0.9750\n",
      "validation cost is 0.9022, validation accuracy is 0.7252\n",
      "Epoch 17, CIFAR-10 Batch 2:  \n",
      "training cost is 0.1063, training accuracy is 0.9750\n",
      "validation cost is 0.8962, validation accuracy is 0.7338\n",
      "Epoch 17, CIFAR-10 Batch 3:  \n",
      "training cost is 0.0546, training accuracy is 1.0000\n",
      "validation cost is 0.9370, validation accuracy is 0.7134\n",
      "Epoch 17, CIFAR-10 Batch 4:  \n",
      "training cost is 0.1211, training accuracy is 1.0000\n",
      "validation cost is 0.9204, validation accuracy is 0.7212\n",
      "Epoch 17, CIFAR-10 Batch 5:  \n",
      "training cost is 0.1031, training accuracy is 0.9750\n",
      "validation cost is 0.9146, validation accuracy is 0.7274\n",
      "Epoch 18, CIFAR-10 Batch 1:  \n",
      "training cost is 0.0926, training accuracy is 0.9750\n",
      "validation cost is 0.9541, validation accuracy is 0.7234\n",
      "Epoch 18, CIFAR-10 Batch 2:  \n",
      "training cost is 0.0781, training accuracy is 1.0000\n",
      "validation cost is 0.9207, validation accuracy is 0.7308\n",
      "Epoch 18, CIFAR-10 Batch 3:  \n",
      "training cost is 0.0812, training accuracy is 1.0000\n",
      "validation cost is 0.9760, validation accuracy is 0.7016\n",
      "Epoch 18, CIFAR-10 Batch 4:  \n",
      "training cost is 0.1051, training accuracy is 1.0000\n",
      "validation cost is 0.9349, validation accuracy is 0.7194\n",
      "Epoch 18, CIFAR-10 Batch 5:  \n",
      "training cost is 0.0578, training accuracy is 1.0000\n",
      "validation cost is 0.9571, validation accuracy is 0.7246\n",
      "Epoch 19, CIFAR-10 Batch 1:  \n",
      "training cost is 0.1094, training accuracy is 0.9500\n",
      "validation cost is 0.9885, validation accuracy is 0.7134\n",
      "Epoch 19, CIFAR-10 Batch 2:  \n",
      "training cost is 0.0699, training accuracy is 1.0000\n",
      "validation cost is 0.9944, validation accuracy is 0.7216\n",
      "Epoch 19, CIFAR-10 Batch 3:  \n",
      "training cost is 0.1102, training accuracy is 0.9750\n",
      "validation cost is 1.0203, validation accuracy is 0.7030\n",
      "Epoch 19, CIFAR-10 Batch 4:  \n",
      "training cost is 0.0806, training accuracy is 1.0000\n",
      "validation cost is 0.9224, validation accuracy is 0.7248\n",
      "Epoch 19, CIFAR-10 Batch 5:  \n",
      "training cost is 0.0692, training accuracy is 0.9750\n",
      "validation cost is 0.9578, validation accuracy is 0.7224\n",
      "Epoch 20, CIFAR-10 Batch 1:  \n",
      "training cost is 0.0601, training accuracy is 1.0000\n",
      "validation cost is 0.9030, validation accuracy is 0.7338\n",
      "Epoch 20, CIFAR-10 Batch 2:  \n",
      "training cost is 0.0383, training accuracy is 1.0000\n",
      "validation cost is 0.9327, validation accuracy is 0.7330\n",
      "Epoch 20, CIFAR-10 Batch 3:  \n",
      "training cost is 0.0574, training accuracy is 1.0000\n",
      "validation cost is 1.0042, validation accuracy is 0.7236\n",
      "Epoch 20, CIFAR-10 Batch 4:  \n",
      "training cost is 0.1266, training accuracy is 0.9250\n",
      "validation cost is 1.0028, validation accuracy is 0.7140\n",
      "Epoch 20, CIFAR-10 Batch 5:  \n",
      "training cost is 0.0471, training accuracy is 1.0000\n",
      "validation cost is 0.9470, validation accuracy is 0.7312\n"
     ]
    }
   ],
   "source": [
    "\"\"\"\n",
    "DON'T MODIFY ANYTHING IN THIS CELL\n",
    "\"\"\"\n",
    "save_model_path = './image_classification'\n",
    "\n",
    "print('Training...')\n",
    "with tf.Session() as sess:\n",
    "    # Initializing the variables\n",
    "    sess.run(tf.global_variables_initializer())\n",
    "    \n",
    "    # Training cycle\n",
    "    for epoch in range(epochs):\n",
    "        # Loop over all batches\n",
    "        n_batches = 5\n",
    "        for batch_i in range(1, n_batches + 1):\n",
    "            for batch_features, batch_labels in helper.load_preprocess_training_batch(batch_i, batch_size):\n",
    "                train_neural_network(sess, optimizer, keep_probability, batch_features, batch_labels)\n",
    "            print('Epoch {:>2}, CIFAR-10 Batch {}:  '.format(epoch + 1, batch_i), end='')\n",
    "            print_stats(sess, batch_features, batch_labels, cost, accuracy)\n",
    "            \n",
    "    # Save Model\n",
    "    saver = tf.train.Saver()\n",
    "    save_path = saver.save(sess, save_model_path)"
   ]
  },
  {
   "cell_type": "markdown",
   "metadata": {
    "deletable": true,
    "editable": true
   },
   "source": [
    "# Checkpoint\n",
    "The model has been saved to disk.\n",
    "## Test Model\n",
    "Test your model against the test dataset.  This will be your final accuracy. You should have an accuracy greater than 50%. If you don't, keep tweaking the model architecture and parameters."
   ]
  },
  {
   "cell_type": "code",
   "execution_count": 66,
   "metadata": {
    "collapsed": false,
    "deletable": true,
    "editable": true
   },
   "outputs": [
    {
     "name": "stdout",
     "output_type": "stream",
     "text": [
      "Testing Accuracy: 0.7131131329113924\n",
      "\n"
     ]
    },
    {
     "data": {
      "image/png": "[encoded data removed]",
      "text/plain": [
       "<matplotlib.figure.Figure at 0x7efca2295780>"
      ]
     },
     "metadata": {
      "image/png": {
       "height": 319,
       "width": 355
      }
     },
     "output_type": "display_data"
    }
   ],
   "source": [
    "\"\"\"\n",
    "DON'T MODIFY ANYTHING IN THIS CELL\n",
    "\"\"\"\n",
    "%matplotlib inline\n",
    "%config InlineBackend.figure_format = 'retina'\n",
    "\n",
    "import tensorflow as tf\n",
    "import pickle\n",
    "import helper\n",
    "import random\n",
    "\n",
    "# Set batch size if not already set\n",
    "try:\n",
    "    if batch_size:\n",
    "        pass\n",
    "except NameError:\n",
    "    batch_size = 64\n",
    "\n",
    "save_model_path = './image_classification'\n",
    "n_samples = 4\n",
    "top_n_predictions = 3\n",
    "\n",
    "def test_model():\n",
    "    \"\"\"\n",
    "    Test the saved model against the test dataset\n",
    "    \"\"\"\n",
    "\n",
    "    test_features, test_labels = pickle.load(open('preprocess_test.p', mode='rb'))\n",
    "    loaded_graph = tf.Graph()\n",
    "\n",
    "    with tf.Session(graph=loaded_graph) as sess:\n",
    "        # Load model\n",
    "        loader = tf.train.import_meta_graph(save_model_path + '.meta')\n",
    "        loader.restore(sess, save_model_path)\n",
    "\n",
    "        # Get Tensors from loaded model\n",
    "        loaded_x = loaded_graph.get_tensor_by_name('x:0')\n",
    "        loaded_y = loaded_graph.get_tensor_by_name('y:0')\n",
    "        loaded_keep_prob = loaded_graph.get_tensor_by_name('keep_prob:0')\n",
    "        loaded_logits = loaded_graph.get_tensor_by_name('logits:0')\n",
    "        loaded_acc = loaded_graph.get_tensor_by_name('accuracy:0')\n",
    "        \n",
    "        # Get accuracy in batches for memory limitations\n",
    "        test_batch_acc_total = 0\n",
    "        test_batch_count = 0\n",
    "        \n",
    "        for test_feature_batch, test_label_batch in helper.batch_features_labels(test_features, test_labels, batch_size):\n",
    "            test_batch_acc_total += sess.run(\n",
    "                loaded_acc,\n",
    "                feed_dict={loaded_x: test_feature_batch, loaded_y: test_label_batch, loaded_keep_prob: 1.0})\n",
    "            test_batch_count += 1\n",
    "\n",
    "        print('Testing Accuracy: {}\\n'.format(test_batch_acc_total/test_batch_count))\n",
    "\n",
    "        # Print Random Samples\n",
    "        random_test_features, random_test_labels = tuple(zip(*random.sample(list(zip(test_features, test_labels)), n_samples)))\n",
    "        random_test_predictions = sess.run(\n",
    "            tf.nn.top_k(tf.nn.softmax(loaded_logits), top_n_predictions),\n",
    "            feed_dict={loaded_x: random_test_features, loaded_y: random_test_labels, loaded_keep_prob: 1.0})\n",
    "        helper.display_image_predictions(random_test_features, random_test_labels, random_test_predictions)\n",
    "\n",
    "\n",
    "test_model()"
   ]
  },
  {
   "cell_type": "markdown",
   "metadata": {
    "deletable": true,
    "editable": true
   },
   "source": [
    "## Why 50-80% Accuracy?\n",
    "You might be wondering why you can't get an accuracy any higher. First things first, 50% isn't bad for a simple CNN.  Pure guessing would get you 10% accuracy. However, you might notice people are getting scores [well above 80%](http://rodrigob.github.io/are_we_there_yet/build/classification_datasets_results.html#43494641522d3130).  That's because we haven't taught you all there is to know about neural networks. We still need to cover a few more techniques.\n",
    "## Submitting This Project\n",
    "When submitting this project, make sure to run all the cells before saving the notebook.  Save the notebook file as \"dlnd_image_classification.ipynb\" and save it as a HTML file under \"File\" -> \"Download as\".  Include the \"helper.py\" and \"problem_unittests.py\" files in your submission."
   ]
  }
 ],
 "metadata": {
  "anaconda-cloud": {},
  "kernelspec": {
   "display_name": "Python 3",
   "language": "python",
   "name": "python3"
  },
  "widgets": {
   "state": {},
   "version": "1.1.2"
  }
 },
 "nbformat": 4,
 "nbformat_minor": 0
}
